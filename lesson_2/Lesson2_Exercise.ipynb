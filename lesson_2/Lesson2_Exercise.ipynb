{
 "cells": [
  {
   "cell_type": "markdown",
   "metadata": {},
   "source": [
    "***Question 1***:\n",
    "\n",
    "Now, We have two strings<br/>\n",
    "x = \"Lesson 2 is interesting\"<br/>\n",
    "y = \"Lesson 3\"<br/>\n",
    "By **not** create any new string<br/>\n",
    "create a new string, z, where the value of Z is \"Lesson 3 is interesting\""
   ]
  },
  {
   "cell_type": "code",
   "execution_count": null,
   "metadata": {},
   "outputs": [],
   "source": []
  },
  {
   "cell_type": "markdown",
   "metadata": {},
   "source": [
    "***Question 2***:\n",
    "\n",
    "Now, We have a string, containing three names<br/>\n",
    "x = \"Jennifer David Cherry\"<br/>\n",
    "\n",
    "Please create a list ojbect, z, and store the name one by one into the list"
   ]
  },
  {
   "cell_type": "markdown",
   "metadata": {},
   "source": [
    "Method 1"
   ]
  },
  {
   "cell_type": "code",
   "execution_count": 3,
   "metadata": {},
   "outputs": [
    {
     "name": "stdout",
     "output_type": "stream",
     "text": [
      "['Jennifer', 'David', 'Cherry']\n"
     ]
    }
   ],
   "source": [
    "z = []\n",
    "x = \"Jennifer David Cherry\"\n",
    "first_space = x.find(' ')\n",
    "second_space = x.find(' ', first_space+1)\n",
    "z.append(x[:first_space])\n",
    "z.append(x[first_space+1:second_space])\n",
    "z.append(x[second_space+1:])\n",
    "print (z)"
   ]
  },
  {
   "cell_type": "markdown",
   "metadata": {},
   "source": [
    "Method 2"
   ]
  },
  {
   "cell_type": "code",
   "execution_count": 4,
   "metadata": {},
   "outputs": [
    {
     "name": "stdout",
     "output_type": "stream",
     "text": [
      "['Jennifer', 'David', 'Cherry']\n"
     ]
    }
   ],
   "source": [
    "z = x.split(' ')\n",
    "print (z)"
   ]
  }
 ],
 "metadata": {
  "kernelspec": {
   "display_name": "Python 3",
   "language": "python",
   "name": "python3"
  },
  "language_info": {
   "codemirror_mode": {
    "name": "ipython",
    "version": 3
   },
   "file_extension": ".py",
   "mimetype": "text/x-python",
   "name": "python",
   "nbconvert_exporter": "python",
   "pygments_lexer": "ipython3",
   "version": "3.8.3"
  }
 },
 "nbformat": 4,
 "nbformat_minor": 4
}
