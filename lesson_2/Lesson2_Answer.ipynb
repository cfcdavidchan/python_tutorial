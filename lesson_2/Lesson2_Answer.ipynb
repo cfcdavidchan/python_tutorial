{
 "cells": [
  {
   "cell_type": "markdown",
   "metadata": {},
   "source": [
    "<h1 align=center><font size = 5>In class question</font></h1>  "
   ]
  },
  {
   "cell_type": "markdown",
   "metadata": {},
   "source": [
    "***Question 1*** : \n",
    "\n",
    "Caculate the length of \"This is a good course\""
   ]
  },
  {
   "cell_type": "code",
   "execution_count": 5,
   "metadata": {},
   "outputs": [
    {
     "name": "stdout",
     "output_type": "stream",
     "text": [
      "21\n"
     ]
    }
   ],
   "source": [
    "x = \"This is a good course\"\n",
    "print (len(x))"
   ]
  },
  {
   "cell_type": "markdown",
   "metadata": {},
   "source": [
    "***Question 2*** :\n",
    "\n",
    "\"Michael Lee\" has a son, 'Tom'.\n",
    "Create three string objects:\n",
    "1. father - store \"Michael Lee\"\n",
    "2. son - store 'Tom'\n",
    "3. Last_name - store the last name of \"Michael Lee\" by using father object\n",
    "\n",
    "Task:\n",
    "print the full name of Tom"
   ]
  },
  {
   "cell_type": "code",
   "execution_count": 3,
   "metadata": {},
   "outputs": [
    {
     "name": "stdout",
     "output_type": "stream",
     "text": [
      "Tom Lee\n"
     ]
    }
   ],
   "source": [
    "father = \"Michael Lee\"\n",
    "son = \"Tom\"\n",
    "Last_name = father[-3:]\n",
    "#Last_name = father[8:]\n",
    "print (son, Last_name)"
   ]
  },
  {
   "cell_type": "markdown",
   "metadata": {},
   "source": [
    "***Question 3*** :\n",
    "\n",
    "Now, we have a string, name = \"Michael Jaskson\".<br/>\n",
    "What is the position of the seocond 'a'"
   ]
  },
  {
   "cell_type": "markdown",
   "metadata": {},
   "source": [
    "Method 1:"
   ]
  },
  {
   "cell_type": "code",
   "execution_count": 12,
   "metadata": {},
   "outputs": [
    {
     "name": "stdout",
     "output_type": "stream",
     "text": [
      "9\n",
      "a\n"
     ]
    }
   ],
   "source": [
    "name = \"Michael Jaskson\"\n",
    "first_a_pos = name.find('a')\n",
    "second_a_pos = name[first_a_pos + 1:].find('a') + first_a_pos + 1\n",
    "print (second_a_pos)\n",
    "print (name[second_a_pos])"
   ]
  },
  {
   "cell_type": "markdown",
   "metadata": {},
   "source": [
    "Method 2:"
   ]
  },
  {
   "cell_type": "code",
   "execution_count": 17,
   "metadata": {},
   "outputs": [
    {
     "name": "stdout",
     "output_type": "stream",
     "text": [
      "9\n",
      "a\n"
     ]
    }
   ],
   "source": [
    "name = \"Michael Jaskson\"\n",
    "first_a_pos = name.find('a')\n",
    "second_a_pos = name.find('a', first_a_pos + 1)\n",
    "print (second_a_pos)\n",
    "print (name[second_a_pos])"
   ]
  },
  {
   "cell_type": "markdown",
   "metadata": {},
   "source": [
    "***Question 4*** :\n",
    "\n",
    "Create a list 'x' , with the following elements: 1, “hello”, 99. "
   ]
  },
  {
   "cell_type": "code",
   "execution_count": 18,
   "metadata": {},
   "outputs": [],
   "source": [
    "x = [1,\"hello\",99]"
   ]
  },
  {
   "cell_type": "markdown",
   "metadata": {},
   "source": [
    "***Question 5*** :\n",
    "\n",
    "Using the list 'x' from question 4, add a element: 'world' into it."
   ]
  },
  {
   "cell_type": "code",
   "execution_count": 19,
   "metadata": {},
   "outputs": [
    {
     "name": "stdout",
     "output_type": "stream",
     "text": [
      "[1, 'hello', 99, 'world']\n"
     ]
    }
   ],
   "source": [
    "x.append('world')\n",
    "print (x)"
   ]
  },
  {
   "cell_type": "markdown",
   "metadata": {},
   "source": [
    "***Question 6*** :\n",
    "\n",
    "Using the list 'x' from question 5, remove two elements: 1 and 99."
   ]
  },
  {
   "cell_type": "code",
   "execution_count": 20,
   "metadata": {},
   "outputs": [
    {
     "name": "stdout",
     "output_type": "stream",
     "text": [
      "['hello', 'world']\n"
     ]
    }
   ],
   "source": [
    "x.remove(1)\n",
    "x.remove(99)\n",
    "print (x)"
   ]
  },
  {
   "cell_type": "markdown",
   "metadata": {},
   "source": [
    "***Question 7*** :\n",
    "\n",
    "Using the list 'x' from question 6, print the first two elements of the list."
   ]
  },
  {
   "cell_type": "code",
   "execution_count": 22,
   "metadata": {},
   "outputs": [
    {
     "name": "stdout",
     "output_type": "stream",
     "text": [
      "['hello', 'world']\n"
     ]
    }
   ],
   "source": [
    "print (x[0:2])"
   ]
  },
  {
   "cell_type": "markdown",
   "metadata": {},
   "source": [
    "<h1 align=center><font size = 5>Lesson 2 Exercise</font></h1>  "
   ]
  },
  {
   "cell_type": "markdown",
   "metadata": {},
   "source": [
    "***Question 1***:\n",
    "\n",
    "Now, We have two strings<br/>\n",
    "x = \"Lesson 2 is interesting\"<br/>\n",
    "y = \"Lesson 3\"<br/>\n",
    "By **not** create any new string<br/>\n",
    "create a new string, z, where the value of Z is \"Lesson 3 is interesting\""
   ]
  },
  {
   "cell_type": "markdown",
   "metadata": {},
   "source": [
    "Method 1"
   ]
  },
  {
   "cell_type": "code",
   "execution_count": 25,
   "metadata": {},
   "outputs": [
    {
     "name": "stdout",
     "output_type": "stream",
     "text": [
      "Lesson 3 is interesting\n"
     ]
    }
   ],
   "source": [
    "x = \"Lesson 2 is interesting\"\n",
    "y = \"Lesson 3\"\n",
    "lesson_pos = x.find('2')\n",
    "z = y + x[lesson_pos+1:]\n",
    "print (z)"
   ]
  },
  {
   "cell_type": "markdown",
   "metadata": {},
   "source": [
    "Method 2"
   ]
  },
  {
   "cell_type": "code",
   "execution_count": 27,
   "metadata": {},
   "outputs": [
    {
     "name": "stdout",
     "output_type": "stream",
     "text": [
      "Lesson 3 is interesting\n",
      "Lesson 2 is interesting\n"
     ]
    }
   ],
   "source": [
    "x = \"Lesson 2 is interesting\"\n",
    "z = x.replace('2','3')\n",
    "print (z)"
   ]
  },
  {
   "cell_type": "markdown",
   "metadata": {},
   "source": [
    "***Question 2***:\n",
    "\n",
    "Now, We have a string, containing three names<br/>\n",
    "x = \"Jennifer David Cherry\"<br/>\n",
    "\n",
    "Please create a list ojbect, z, and store the name one by one into the list"
   ]
  },
  {
   "cell_type": "markdown",
   "metadata": {},
   "source": [
    "Method 1"
   ]
  },
  {
   "cell_type": "code",
   "execution_count": 1,
   "metadata": {},
   "outputs": [
    {
     "name": "stdout",
     "output_type": "stream",
     "text": [
      "['Jennifer', 'David', 'Cherry']\n"
     ]
    }
   ],
   "source": [
    "z = []\n",
    "x = \"Jennifer David Cherry\"\n",
    "first_space = x.find(' ')\n",
    "second_space = x.find(' ', first_space+1)\n",
    "z.append(x[:first_space])\n",
    "z.append(x[first_space+1:second_space])\n",
    "z.append(x[second_space+1:])\n",
    "print (z)"
   ]
  },
  {
   "cell_type": "markdown",
   "metadata": {},
   "source": [
    "Method 2"
   ]
  },
  {
   "cell_type": "code",
   "execution_count": 2,
   "metadata": {},
   "outputs": [
    {
     "name": "stdout",
     "output_type": "stream",
     "text": [
      "['Jennifer', 'David', 'Cherry']\n"
     ]
    }
   ],
   "source": [
    "z = x.split(' ')\n",
    "print (z)"
   ]
  }
 ],
 "metadata": {
  "kernelspec": {
   "display_name": "Python 3",
   "language": "python",
   "name": "python3"
  },
  "language_info": {
   "codemirror_mode": {
    "name": "ipython",
    "version": 3
   },
   "file_extension": ".py",
   "mimetype": "text/x-python",
   "name": "python",
   "nbconvert_exporter": "python",
   "pygments_lexer": "ipython3",
   "version": "3.8.3"
  }
 },
 "nbformat": 4,
 "nbformat_minor": 4
}
