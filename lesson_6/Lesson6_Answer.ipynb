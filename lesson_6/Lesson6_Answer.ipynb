{
 "cells": [
  {
   "cell_type": "markdown",
   "metadata": {},
   "source": [
    "<h1 align=center><font size = 5>In class question</font></h1>  "
   ]
  },
  {
   "cell_type": "markdown",
   "metadata": {},
   "source": [
    "***Question 1*** :\n",
    "\n",
    "    Let's get back to the question 2 in Lesson5_Exercise\n",
    "    \n",
    "    create a fucntion to compute the frequency of the words from the input\n",
    "\n",
    "    exmaple:\n",
    "    'New to Python or choosing between Python 2 and Python 3? Read Python 2 or Python 3.'\n",
    "    \n",
    "    Could we use dict() to do that?"
   ]
  },
  {
   "cell_type": "code",
   "execution_count": 3,
   "metadata": {},
   "outputs": [
    {
     "name": "stdout",
     "output_type": "stream",
     "text": [
      "{'New': 1, 'to': 1, 'Python': 5, 'or': 2, 'choosing': 1, 'between': 1, '2': 2, 'and': 1, '3?': 1, 'Read': 1, '3.': 1}\n"
     ]
    }
   ],
   "source": [
    "def count_word(input_string):\n",
    "    result = {}\n",
    "    string_list = input_string.split(' ')\n",
    "    \n",
    "    for word in string_list:\n",
    "        if word not in result.keys():\n",
    "            result[word] = 0\n",
    "        result[word] +=1\n",
    "    return result\n",
    "    \n",
    "example = 'New to Python or choosing between Python 2 and Python 3? Read Python 2 or Python 3.'\n",
    "\n",
    "result = count_word(example)\n",
    "\n",
    "print (result)"
   ]
  },
  {
   "cell_type": "markdown",
   "metadata": {},
   "source": [
    "How if we have more courses? Could we reuse the code above?\n",
    "\n",
    "***Question 2*** :\n",
    "\n",
    "3. add one more key, R, in the dictionary and add some students"
   ]
  },
  {
   "cell_type": "code",
   "execution_count": 5,
   "metadata": {},
   "outputs": [
    {
     "name": "stdout",
     "output_type": "stream",
     "text": [
      "{'python': [], 'java': [], 'R': [['Cindy', 21], ['Peter', 42]]}\n"
     ]
    }
   ],
   "source": [
    "def add_student_info(info_list, name, age):\n",
    "    info_list.append([name, age])\n",
    "\n",
    "programming_school = {'python':[],\n",
    "                     'java':[]}\n",
    "\n",
    "programming_school['R'] = []\n",
    "add_student_info(programming_school['R'], 'Cindy', 21)\n",
    "add_student_info(programming_school['R'], 'Peter', 42)\n",
    "\n",
    "print (programming_school)"
   ]
  },
  {
   "cell_type": "markdown",
   "metadata": {},
   "source": [
    "***Question 3*** :\n",
    "\n",
    "Is it possible to create a function to check all the student names?"
   ]
  },
  {
   "cell_type": "code",
   "execution_count": 6,
   "metadata": {},
   "outputs": [
    {
     "name": "stdout",
     "output_type": "stream",
     "text": [
      "['Cindy', 'Peter']\n"
     ]
    }
   ],
   "source": [
    "def get_all_student(school_dict):\n",
    "    all_name = []\n",
    "    for k, v in school_dict.items():\n",
    "        for info in v:\n",
    "            all_name.append(info[0])\n",
    "    return all_name\n",
    "\n",
    "all_student = get_all_student(programming_school)\n",
    "print (all_student)"
   ]
  },
  {
   "cell_type": "markdown",
   "metadata": {},
   "source": [
    "<h1 align=center><font size = 5>Lesson 6 Exercise</font></h1>  "
   ]
  },
  {
   "cell_type": "markdown",
   "metadata": {},
   "source": [
    "***Question 1*** :\n",
    "\n",
    "    Ben receives his exam result that he got 90 marks in Math, 70 marks in Economics, 80 marks in Chinese\n",
    "    \n",
    "    Could you create a dictionary to store these data?"
   ]
  },
  {
   "cell_type": "code",
   "execution_count": 7,
   "metadata": {},
   "outputs": [
    {
     "name": "stdout",
     "output_type": "stream",
     "text": [
      "{'Math': 90, 'Economics': 70, 'Chinese': 80}\n"
     ]
    }
   ],
   "source": [
    "exam_result = {'Math': 90,\n",
    "              'Economics': 70,\n",
    "              'Chinese': 80}\n",
    "\n",
    "print (exam_result)"
   ]
  },
  {
   "cell_type": "markdown",
   "metadata": {},
   "source": [
    "***Question 2*** :\n",
    "\n",
    "    Now Ben recevies two more exam result that the marks he got in English and accounting were 40 and 60 respectively.\n",
    "    \n",
    "    Please add these two information in the dictionary that was created in question 1"
   ]
  },
  {
   "cell_type": "code",
   "execution_count": 11,
   "metadata": {},
   "outputs": [
    {
     "name": "stdout",
     "output_type": "stream",
     "text": [
      "{'Math': 90, 'Economics': 70, 'Chinese': 80, 'English': 40, 'accounting': 60}\n"
     ]
    }
   ],
   "source": [
    "exam_result['English']= 40\n",
    "exam_result['accounting']= 60\n",
    "\n",
    "print (exam_result)"
   ]
  },
  {
   "cell_type": "markdown",
   "metadata": {},
   "source": [
    "***Question 3*** :\n",
    "\n",
    "    Calcuate the average marks amoong all the subjects"
   ]
  },
  {
   "cell_type": "code",
   "execution_count": 16,
   "metadata": {},
   "outputs": [
    {
     "name": "stdout",
     "output_type": "stream",
     "text": [
      "68.0\n"
     ]
    }
   ],
   "source": [
    "total_marks = 0\n",
    "\n",
    "for subject, mark in exam_result.items():\n",
    "    total_marks += mark\n",
    "    \n",
    "average_mark = total_marks/len(exam_result)\n",
    "\n",
    "print (average_mark)"
   ]
  },
  {
   "cell_type": "markdown",
   "metadata": {},
   "source": [
    "***Question 4*** :\n",
    "\n",
    "    Create a class called calculation. Inside the class, it takes a list as the init input and there should be six functions:\n",
    "        1. sum_up: return the sum all the value in the list\n",
    "        2. multiply: return the product of all the value in the list\n",
    "        3. average: return the average of all the value in the list\n",
    "        4. get_max: return the max value in the list\n",
    "        5. get_min: return the min value in the list"
   ]
  },
  {
   "cell_type": "code",
   "execution_count": 35,
   "metadata": {},
   "outputs": [],
   "source": [
    "class calculation():\n",
    "    def __init__(self, the_list):\n",
    "        self.all_value = the_list\n",
    "        \n",
    "    def sum_up(self):\n",
    "        sum_value = 0\n",
    "        \n",
    "        for value in self.all_value:\n",
    "            sum_value += value\n",
    "        return sum_value\n",
    "    \n",
    "    def multiply(self):\n",
    "        multiply_value = 1\n",
    "        \n",
    "        for value in self.all_value:\n",
    "            multiply_value *= value\n",
    "    \n",
    "        return multiply_value\n",
    "    \n",
    "    def average(self):\n",
    "        return (self.sum_up()/len(self.all_value))\n",
    "    \n",
    "    def get_max(self):\n",
    "        \n",
    "        max_value = float(\"-inf\")\n",
    "        \n",
    "        for value in self.all_value:\n",
    "            if value > max_value:\n",
    "                max_value = value\n",
    "        \n",
    "        # return max(self.)\n",
    "        return max_value\n",
    "    \n",
    "    def get_min(self):\n",
    "\n",
    "        min_value = float(\"inf\")\n",
    "\n",
    "        for value in self.all_value:\n",
    "            if value < min_value:\n",
    "                min_value = value\n",
    "\n",
    "        # return min(self.all_value)\n",
    "        return min_value"
   ]
  },
  {
   "cell_type": "code",
   "execution_count": 34,
   "metadata": {},
   "outputs": [
    {
     "name": "stdout",
     "output_type": "stream",
     "text": [
      "550\n",
      "36288000000000000\n",
      "55.0\n",
      "100\n",
      "10\n"
     ]
    }
   ],
   "source": [
    "x = [10,20,30,40,50,60,70,80,90,100]\n",
    "\n",
    "stat = calculation(x)\n",
    "sum_result = stat.sum_up()\n",
    "multiply_result = stat.multiply()\n",
    "average_result = stat.average()\n",
    "max_result = stat.get_max()\n",
    "min_result = stat.get_min()\n",
    "\n",
    "print (sum_result)\n",
    "print (multiply_result)\n",
    "print (average_result)\n",
    "print (max_result)\n",
    "print (min_result)\n"
   ]
  }
 ],
 "metadata": {
  "kernelspec": {
   "display_name": "Python 3",
   "language": "python",
   "name": "python3"
  },
  "language_info": {
   "codemirror_mode": {
    "name": "ipython",
    "version": 3
   },
   "file_extension": ".py",
   "mimetype": "text/x-python",
   "name": "python",
   "nbconvert_exporter": "python",
   "pygments_lexer": "ipython3",
   "version": "3.8.3"
  }
 },
 "nbformat": 4,
 "nbformat_minor": 4
}
