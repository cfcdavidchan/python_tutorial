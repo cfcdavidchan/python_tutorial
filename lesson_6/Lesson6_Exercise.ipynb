{
 "cells": [
  {
   "cell_type": "markdown",
   "metadata": {},
   "source": [
    "***Question 1*** :\n",
    "\n",
    "    Ben receives his exam result that he got 90 marks in Math, 70 marks in Economics, 80 marks in Chinese\n",
    "    \n",
    "    Could you create a dictionary to store these data?"
   ]
  },
  {
   "cell_type": "code",
   "execution_count": null,
   "metadata": {},
   "outputs": [],
   "source": []
  },
  {
   "cell_type": "markdown",
   "metadata": {},
   "source": [
    "***Question 2*** :\n",
    "\n",
    "    Now Ben recevies two more exam result that the marks he got in English and accounting were 40 and 60 respectively.\n",
    "    \n",
    "    Please add these two information in the dictionary that was created in question 1"
   ]
  },
  {
   "cell_type": "code",
   "execution_count": null,
   "metadata": {},
   "outputs": [],
   "source": []
  },
  {
   "cell_type": "markdown",
   "metadata": {},
   "source": [
    "***Question 3*** :\n",
    "\n",
    "    Calcuate the average marks amoong all the subjects"
   ]
  },
  {
   "cell_type": "code",
   "execution_count": null,
   "metadata": {},
   "outputs": [],
   "source": []
  },
  {
   "cell_type": "markdown",
   "metadata": {},
   "source": [
    "***Question 4*** :\n",
    "\n",
    "    Create a class called calculation. Inside the class, it takes a list as the init input and there should be six functions:\n",
    "        1. sum_up: return the sum all the value in the list\n",
    "        2. multiply: return the product of all the value in the list\n",
    "        3. average: return the average of all the value in the list\n",
    "        4. get_max: return the max value in the list\n",
    "        5. get_min: return the min value in the list"
   ]
  },
  {
   "cell_type": "code",
   "execution_count": null,
   "metadata": {},
   "outputs": [],
   "source": []
  }
 ],
 "metadata": {
  "kernelspec": {
   "display_name": "Python 3",
   "language": "python",
   "name": "python3"
  },
  "language_info": {
   "codemirror_mode": {
    "name": "ipython",
    "version": 3
   },
   "file_extension": ".py",
   "mimetype": "text/x-python",
   "name": "python",
   "nbconvert_exporter": "python",
   "pygments_lexer": "ipython3",
   "version": "3.8.3"
  }
 },
 "nbformat": 4,
 "nbformat_minor": 4
}
