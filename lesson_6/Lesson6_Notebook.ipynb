{
 "cells": [
  {
   "cell_type": "markdown",
   "metadata": {},
   "source": [
    "<h1 align=center><font size = 10>Python - Lesson 6</font></h1>  "
   ]
  },
  {
   "cell_type": "markdown",
   "metadata": {},
   "source": [
    "# Overview\n",
    "\n",
    "Some python object operations will be covered today:\n",
    "\n",
    "1. [dictionary](#function-revision)\n",
    "2. [classes](#classes)"
   ]
  },
  {
   "cell_type": "markdown",
   "metadata": {},
   "source": [
    "<h1 align=center><font size = 5>dictionary</font></h1>  "
   ]
  },
  {
   "cell_type": "markdown",
   "metadata": {},
   "source": [
    "- use key to map the related data\n",
    "- vales can be any object, such as int(), str() or even dict()\n",
    "\n",
    " <img src = \"./dict.png\" width = 600, align = \"center\"></a>"
   ]
  },
  {
   "cell_type": "markdown",
   "metadata": {},
   "source": [
    "### Example:"
   ]
  },
  {
   "cell_type": "code",
   "execution_count": 3,
   "metadata": {},
   "outputs": [
    {
     "data": {
      "text/plain": [
       "{'name': 'Bob',\n",
       " 'age': 25,\n",
       " 'job': 'Dev',\n",
       " 'city': 'New York',\n",
       " 'email': 'bob@web.com'}"
      ]
     },
     "execution_count": 3,
     "metadata": {},
     "output_type": "execute_result"
    }
   ],
   "source": [
    "example = {'name': 'Bob',\n",
    "           'age': 25,\n",
    "           'job': 'Dev',\n",
    "           'city': 'New York',\n",
    "           'email': 'bob@web.com'}\n",
    "\n",
    "example"
   ]
  },
  {
   "cell_type": "code",
   "execution_count": 7,
   "metadata": {},
   "outputs": [
    {
     "data": {
      "text/plain": [
       "{'name': 'Bob',\n",
       " 'age': 25,\n",
       " 'job': {'2018-2019': 'Dev', '2019-2020': 'freelancer'},\n",
       " 'city': 'New York',\n",
       " 'email': ['bob@web.com', 'abc@web.com']}"
      ]
     },
     "execution_count": 7,
     "metadata": {},
     "output_type": "execute_result"
    }
   ],
   "source": [
    "example2 = {'name': 'Bob',\n",
    "           'age': 25,\n",
    "           'job': {'2018-2019':'Dev',\n",
    "                   '2019-2020':'freelancer',\n",
    "                  },\n",
    "           'city': 'New York',\n",
    "           'email': ['bob@web.com','abc@web.com']}\n",
    "\n",
    "example2"
   ]
  },
  {
   "cell_type": "markdown",
   "metadata": {},
   "source": [
    "### Different ways to create dictionary:"
   ]
  },
  {
   "cell_type": "code",
   "execution_count": 9,
   "metadata": {},
   "outputs": [
    {
     "data": {
      "text/plain": [
       "{'name': 'Bob', 'age': 25, 'job': 'Dev'}"
      ]
     },
     "execution_count": 9,
     "metadata": {},
     "output_type": "execute_result"
    }
   ],
   "source": [
    "data = (['name', 'Bob'],\n",
    "       ['age', 25],\n",
    "       ['job', 'Dev'])\n",
    "\n",
    "way1 = dict(data)\n",
    "way1"
   ]
  },
  {
   "cell_type": "code",
   "execution_count": 10,
   "metadata": {},
   "outputs": [
    {
     "data": {
      "text/plain": [
       "{'name': 'Bob', 'age': 25, 'job': 'Dev'}"
      ]
     },
     "execution_count": 10,
     "metadata": {},
     "output_type": "execute_result"
    }
   ],
   "source": [
    "keys = ['name', 'age', 'job']\n",
    "values = ['Bob', 25, 'Dev']\n",
    "\n",
    "way2 = dict(zip(keys, values))\n",
    "way2"
   ]
  },
  {
   "cell_type": "code",
   "execution_count": 12,
   "metadata": {},
   "outputs": [
    {
     "data": {
      "text/plain": [
       "{'name': 'Bob', 'age': 25, 'job': 'Dev'}"
      ]
     },
     "execution_count": 12,
     "metadata": {},
     "output_type": "execute_result"
    }
   ],
   "source": [
    "way3 = dict()\n",
    "way3['name'] = 'Bob'\n",
    "way3['age'] = 25\n",
    "way3['job'] = 'Dev'\n",
    "\n",
    "way3"
   ]
  },
  {
   "cell_type": "markdown",
   "metadata": {},
   "source": [
    "### Access Dictionary Items"
   ]
  },
  {
   "cell_type": "code",
   "execution_count": 13,
   "metadata": {},
   "outputs": [
    {
     "name": "stdout",
     "output_type": "stream",
     "text": [
      "25\n",
      "['bob@web.com', 'abc@web.com']\n"
     ]
    }
   ],
   "source": [
    "example2 = {'name': 'Bob',\n",
    "           'age': 25,\n",
    "           'job': {'2018-2019':'Dev',\n",
    "                   '2019-2020':'freelancer',\n",
    "                  },\n",
    "           'city': 'New York',\n",
    "           'email': ['bob@web.com','abc@web.com']}\n",
    "\n",
    "print (example2['age'])\n",
    "print (example2['email'])"
   ]
  },
  {
   "cell_type": "markdown",
   "metadata": {},
   "source": [
    "### Update Dictionary Items"
   ]
  },
  {
   "cell_type": "code",
   "execution_count": 14,
   "metadata": {},
   "outputs": [
    {
     "name": "stdout",
     "output_type": "stream",
     "text": [
      "25\n",
      "26\n"
     ]
    }
   ],
   "source": [
    "example2 = {'name': 'Bob',\n",
    "           'age': 25,\n",
    "           'job': {'2018-2019':'Dev',\n",
    "                   '2019-2020':'freelancer',\n",
    "                  },\n",
    "           'city': 'New York',\n",
    "           'email': ['bob@web.com','abc@web.com']}\n",
    "\n",
    "print (example2['age'])\n",
    "\n",
    "example2['age'] = 26\n",
    "\n",
    "print (example2['age'])"
   ]
  },
  {
   "cell_type": "markdown",
   "metadata": {},
   "source": [
    "### Remove Dictionary Items"
   ]
  },
  {
   "cell_type": "code",
   "execution_count": 15,
   "metadata": {},
   "outputs": [
    {
     "name": "stdout",
     "output_type": "stream",
     "text": [
      "{'name': 'Bob', 'age': 25, 'job': {'2018-2019': 'Dev', '2019-2020': 'freelancer'}, 'city': 'New York', 'email': ['bob@web.com', 'abc@web.com']}\n",
      "{'name': 'Bob', 'job': {'2018-2019': 'Dev', '2019-2020': 'freelancer'}, 'city': 'New York', 'email': ['bob@web.com', 'abc@web.com']}\n",
      "Removed Value:  25\n"
     ]
    }
   ],
   "source": [
    "example2 = {'name': 'Bob',\n",
    "           'age': 25,\n",
    "           'job': {'2018-2019':'Dev',\n",
    "                   '2019-2020':'freelancer',\n",
    "                  },\n",
    "           'city': 'New York',\n",
    "           'email': ['bob@web.com','abc@web.com']}\n",
    "\n",
    "print (example2)\n",
    "x = example2.pop('age')\n",
    "print (example2)\n",
    "\n",
    "print ('Removed Value: ', x)"
   ]
  },
  {
   "cell_type": "markdown",
   "metadata": {},
   "source": [
    "### loop over Dictionary Items"
   ]
  },
  {
   "cell_type": "markdown",
   "metadata": {},
   "source": [
    "### Example:"
   ]
  },
  {
   "cell_type": "code",
   "execution_count": 3,
   "metadata": {},
   "outputs": [
    {
     "name": "stdout",
     "output_type": "stream",
     "text": [
      "dict_keys(['name', 'age', 'job', 'city', 'email'])\n",
      "dict_items([('name', 'Bob'), ('age', 25), ('job', {'2018-2019': 'Dev', '2019-2020': 'freelancer'}), ('city', 'New York'), ('email', ['bob@web.com', 'abc@web.com'])])\n"
     ]
    }
   ],
   "source": [
    "example2 = {'name': 'Bob',\n",
    "           'age': 25,\n",
    "           'job': {'2018-2019':'Dev',\n",
    "                   '2019-2020':'freelancer',\n",
    "                  },\n",
    "           'city': 'New York',\n",
    "           'email': ['bob@web.com','abc@web.com']}\n",
    "\n",
    "print(example2.keys())\n",
    "print (example2.items())"
   ]
  },
  {
   "cell_type": "markdown",
   "metadata": {},
   "source": [
    "### loop keys()"
   ]
  },
  {
   "cell_type": "code",
   "execution_count": 8,
   "metadata": {},
   "outputs": [
    {
     "name": "stdout",
     "output_type": "stream",
     "text": [
      "name Bob\n",
      "age 25\n",
      "job {'2018-2019': 'Dev', '2019-2020': 'freelancer'}\n",
      "city New York\n",
      "email ['bob@web.com', 'abc@web.com']\n"
     ]
    }
   ],
   "source": [
    "for k in example2.keys():\n",
    "    print (k, example2[k])"
   ]
  },
  {
   "cell_type": "markdown",
   "metadata": {},
   "source": [
    "### loop items()"
   ]
  },
  {
   "cell_type": "code",
   "execution_count": 11,
   "metadata": {},
   "outputs": [
    {
     "name": "stdout",
     "output_type": "stream",
     "text": [
      "name Bob\n",
      "age 25\n",
      "job {'2018-2019': 'Dev', '2019-2020': 'freelancer'}\n",
      "city New York\n",
      "email ['bob@web.com', 'abc@web.com']\n"
     ]
    }
   ],
   "source": [
    "for k, v in example2.items():\n",
    "    print (k, v)"
   ]
  },
  {
   "cell_type": "markdown",
   "metadata": {},
   "source": [
    "***Question 1*** :\n",
    "    Let's get back to the question 2 in Lesson5_Exercise\n",
    "    \n",
    "    create a fucntion to compute the frequency of the words from the input\n",
    "\n",
    "    exmaple:\n",
    "    'New to Python or choosing between Python 2 and Python 3? Read Python 2 or Python 3.'\n",
    "    \n",
    "    Could we use dict() to do that?"
   ]
  },
  {
   "cell_type": "code",
   "execution_count": null,
   "metadata": {},
   "outputs": [],
   "source": []
  },
  {
   "cell_type": "markdown",
   "metadata": {},
   "source": [
    "<h1 align=center><font size = 5>classes</font></h1>  "
   ]
  },
  {
   "cell_type": "markdown",
   "metadata": {},
   "source": [
    "official explanation [classes](https://docs.python.org/3/tutorial/classes.html)\n",
    "- blueprint\n",
    "- reusable"
   ]
  },
  {
   "cell_type": "markdown",
   "metadata": {},
   "source": [
    "### Example:\n",
    "\n",
    "We are now managing a prgramming school that have lots of different courses.\n",
    "\n",
    "1. create a list and create a function to store students' name and age in a list"
   ]
  },
  {
   "cell_type": "code",
   "execution_count": 89,
   "metadata": {},
   "outputs": [
    {
     "name": "stdout",
     "output_type": "stream",
     "text": [
      "[['Lee', 25], ['cherry', 21], ['David', 21], ['Chole', 21]]\n"
     ]
    }
   ],
   "source": [
    "student_info = []\n",
    "\n",
    "def add_student_info(info_list, name, age):\n",
    "    info_list.append([name, age])\n",
    "\n",
    "add_student_info(student_info, 'Lee', 25)\n",
    "add_student_info(student_info, 'cherry', 21)\n",
    "add_student_info(student_info, 'David', 21)\n",
    "add_student_info(student_info, 'Chole', 21)\n",
    "\n",
    "print (student_info)"
   ]
  },
  {
   "cell_type": "markdown",
   "metadata": {},
   "source": [
    "The school provides two courses, python and java.\n",
    "2. use dictionary to store students' data, coruses name as the key, and the student information as the value of the dictionary"
   ]
  },
  {
   "cell_type": "code",
   "execution_count": 91,
   "metadata": {},
   "outputs": [
    {
     "name": "stdout",
     "output_type": "stream",
     "text": [
      "{'python': [['Lee', 25], ['cherry', 21], ['David', 21]], 'java': [['Chole', 21]]}\n"
     ]
    }
   ],
   "source": [
    "programming_school = {'python':[],\n",
    "                     'java':[]}\n",
    "\n",
    "add_student_info(programming_school['python'], 'Lee', 25)\n",
    "add_student_info(programming_school['python'], 'cherry', 21)\n",
    "add_student_info(programming_school['python'], 'David', 21)\n",
    "add_student_info(programming_school['java'], 'Chole', 21)\n",
    "\n",
    "print (programming_school)"
   ]
  },
  {
   "cell_type": "markdown",
   "metadata": {},
   "source": [
    "How if we have more courses? Could we reuse the code above?\n",
    "\n",
    "***Question 2*** :\n",
    "\n",
    "3. add one more key, R, in the dictionary and add some students"
   ]
  },
  {
   "cell_type": "code",
   "execution_count": 92,
   "metadata": {},
   "outputs": [
    {
     "name": "stdout",
     "output_type": "stream",
     "text": [
      "{'python': [['Lee', 25], ['cherry', 21], ['David', 21]], 'java': [['Chole', 21]], 'R': [['Cindy', 21], ['Peter', 42]]}\n"
     ]
    }
   ],
   "source": [
    "programming_school['R'] = []\n",
    "add_student_info(programming_school['R'], 'Cindy', 21)\n",
    "add_student_info(programming_school['R'], 'Peter', 42)\n",
    "\n",
    "print (programming_school)"
   ]
  },
  {
   "cell_type": "markdown",
   "metadata": {},
   "source": [
    "***Question 3*** :\n",
    "\n",
    "Is it possible to create a function to check all the student names?"
   ]
  },
  {
   "cell_type": "code",
   "execution_count": 96,
   "metadata": {},
   "outputs": [
    {
     "name": "stdout",
     "output_type": "stream",
     "text": [
      "['Lee', 'cherry', 'David', 'Chole', 'Cindy', 'Peter']\n"
     ]
    }
   ],
   "source": [
    "def get_all_student(school_dict):\n",
    "    all_name = []\n",
    "    for k, v in school_dict.items():\n",
    "        for info in v:\n",
    "            all_name.append(info[0])\n",
    "    return all_name\n",
    "\n",
    "all_student = get_all_student(programming_school)\n",
    "print (all_student)"
   ]
  },
  {
   "cell_type": "markdown",
   "metadata": {},
   "source": [
    "How if we have another school? \n",
    "How if we have many many schools?\n",
    "\n",
    "Sometimes we want to check the students' name, but sometimes we actually not care about it.\n",
    "\n",
    "\n",
    "Do you still remember the word **blueprint**?\n",
    "\n",
    "In this case, building a class will be a good option"
   ]
  },
  {
   "cell_type": "markdown",
   "metadata": {},
   "source": [
    " <img src = \"./blue_print.jpg\" width = 600, align = \"center\"></a>"
   ]
  },
  {
   "cell_type": "code",
   "execution_count": 97,
   "metadata": {},
   "outputs": [],
   "source": [
    "# construct the class\n",
    "\n",
    "class school():\n",
    "    def __init__(self):\n",
    "        self.course = dict()"
   ]
  },
  {
   "cell_type": "code",
   "execution_count": 103,
   "metadata": {},
   "outputs": [
    {
     "name": "stdout",
     "output_type": "stream",
     "text": [
      "<__main__.school object at 0x7f36b057a370>\n",
      "{}\n"
     ]
    }
   ],
   "source": [
    "programming_school = school()\n",
    "print (programming_school)\n",
    "print (programming_school.course)"
   ]
  },
  {
   "cell_type": "code",
   "execution_count": 108,
   "metadata": {},
   "outputs": [],
   "source": [
    "# add some methods\n",
    "\n",
    "class school():\n",
    "    def __init__(self):\n",
    "        self.course = dict()\n",
    "        \n",
    "    def add_student_info(self, course_name, student_name, age):\n",
    "        # create the dict key if it is not existing\n",
    "        if course_name not in self.course.keys():\n",
    "            self.course[course_name] = []\n",
    "        \n",
    "        self.course[course_name].append([student_name, age])\n",
    "        \n",
    "    def check_name(self):\n",
    "        all_name = []\n",
    "        for k, v in self.course.items():\n",
    "            for info in v:\n",
    "                all_name.append(info[0])\n",
    "        return all_name"
   ]
  },
  {
   "cell_type": "code",
   "execution_count": 109,
   "metadata": {},
   "outputs": [
    {
     "name": "stdout",
     "output_type": "stream",
     "text": [
      "{}\n",
      "{'python': [['Candy', 20], ['Edward', 17]], 'Java': [['Adam', 28]]}\n",
      "['Candy', 'Edward', 'Adam']\n"
     ]
    }
   ],
   "source": [
    "programing_school = school()\n",
    "print (programing_school.course)\n",
    "\n",
    "programing_school.add_student_info('python', 'Candy', 20)\n",
    "programing_school.add_student_info('python', 'Edward', 17)\n",
    "programing_school.add_student_info('Java', 'Adam', 28)\n",
    "\n",
    "print (programing_school.course)\n",
    "all_name = programing_school.check_name()\n",
    "\n",
    "print (all_name)"
   ]
  },
  {
   "cell_type": "code",
   "execution_count": 110,
   "metadata": {},
   "outputs": [
    {
     "name": "stdout",
     "output_type": "stream",
     "text": [
      "['Chan', 'Cherry', 'Winnie']\n"
     ]
    }
   ],
   "source": [
    "language_school = school()\n",
    "\n",
    "language_school.add_student_info('English', 'Chan', 20)\n",
    "language_school.add_student_info('Japanese', 'Cherry', 17)\n",
    "language_school.add_student_info('Chinese', 'Winnie', 28)\n",
    "\n",
    "all_name = language_school.check_name()\n",
    "\n",
    "print (all_name)"
   ]
  },
  {
   "cell_type": "code",
   "execution_count": 111,
   "metadata": {},
   "outputs": [
    {
     "name": "stdout",
     "output_type": "stream",
     "text": [
      "<__main__.school object at 0x7f36b057c490>\n",
      "<__main__.school object at 0x7f36b057ac70>\n"
     ]
    }
   ],
   "source": [
    "print (language_school)\n",
    "print (programing_school)"
   ]
  }
 ],
 "metadata": {
  "kernelspec": {
   "display_name": "Python 3",
   "language": "python",
   "name": "python3"
  },
  "language_info": {
   "codemirror_mode": {
    "name": "ipython",
    "version": 3
   },
   "file_extension": ".py",
   "mimetype": "text/x-python",
   "name": "python",
   "nbconvert_exporter": "python",
   "pygments_lexer": "ipython3",
   "version": "3.8.3"
  }
 },
 "nbformat": 4,
 "nbformat_minor": 4
}
