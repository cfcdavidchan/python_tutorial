{
 "cells": [
  {
   "cell_type": "markdown",
   "metadata": {},
   "source": [
    "<h1 align=center><font size = 5>Lesson 4 Exercise</font></h1>  "
   ]
  },
  {
   "cell_type": "markdown",
   "metadata": {},
   "source": [
    "***Question 1*** :\n",
    "\n",
    "print 九九乘法 out\n",
    "\n",
    " <img src = \"./multiplication_table.png\" width = 600, align = \"center\"></a>"
   ]
  },
  {
   "cell_type": "code",
   "execution_count": null,
   "metadata": {},
   "outputs": [],
   "source": []
  },
  {
   "cell_type": "code",
   "execution_count": null,
   "metadata": {},
   "outputs": [],
   "source": []
  },
  {
   "cell_type": "markdown",
   "metadata": {},
   "source": [
    "***Question 2*** :\n",
    "\n",
    "Let say you are running a online course, use while loop keep asking your students whether they want to stay the lesson.<br/>\n",
    "Once, they input 'y' or 'Y', stop the loop\n",
    "\n",
    "\n",
    "step:\n",
    "1. Users of your program have to enter his name first.<br/>\n",
    "2. Then, print 'Welcome \"user name\"'<br/>\n",
    "3. Ask the user '\"user name\", do you want to start the lesson\"\n",
    "4. if the user input 'y' or 'Y', stop the loop then print 'start'. Otherwise, print 'I will wait you' and loop again"
   ]
  },
  {
   "cell_type": "code",
   "execution_count": null,
   "metadata": {},
   "outputs": [],
   "source": []
  },
  {
   "cell_type": "markdown",
   "metadata": {},
   "source": [
    "***Question 3*** :\n",
    "\n",
    "You are creating a program to check the password.<br/>\n",
    "User have to input a password and the users can only attempt 5 timesfor the wrong password.<br/>\n",
    "If the password is valid, print ('Enter the system') then stop the loop<br/>\n",
    "If the password in invalid, pinrt ('Sorry, wrong password, you have \"x\" attempts left')\n",
    "\n",
    "Assume the password = 'abcdefg'"
   ]
  },
  {
   "cell_type": "code",
   "execution_count": null,
   "metadata": {},
   "outputs": [],
   "source": []
  }
 ],
 "metadata": {
  "kernelspec": {
   "display_name": "Python 3",
   "language": "python",
   "name": "python3"
  },
  "language_info": {
   "codemirror_mode": {
    "name": "ipython",
    "version": 3
   },
   "file_extension": ".py",
   "mimetype": "text/x-python",
   "name": "python",
   "nbconvert_exporter": "python",
   "pygments_lexer": "ipython3",
   "version": "3.8.3"
  }
 },
 "nbformat": 4,
 "nbformat_minor": 4
}
