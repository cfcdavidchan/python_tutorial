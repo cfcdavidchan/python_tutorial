{
 "cells": [
  {
   "cell_type": "markdown",
   "metadata": {},
   "source": [
    "<h1 align=center><font size = 5>In class question</font></h1>  "
   ]
  },
  {
   "cell_type": "markdown",
   "metadata": {},
   "source": [
    "***Question 1*** : \n",
    "\n",
    "use for loop to print 1 to 6"
   ]
  },
  {
   "cell_type": "code",
   "execution_count": 6,
   "metadata": {},
   "outputs": [
    {
     "name": "stdout",
     "output_type": "stream",
     "text": [
      "1\n",
      "2\n",
      "3\n",
      "4\n",
      "5\n",
      "6\n"
     ]
    }
   ],
   "source": [
    "for ele in range(1,7):\n",
    "    print (ele)"
   ]
  },
  {
   "cell_type": "markdown",
   "metadata": {},
   "source": [
    "***Question 2*** : \n",
    "\n",
    "let say we have a empty list: name = []<br/>\n",
    "use input() and for loop function to store 3 user names then stop the for loop<br/>\n",
    "finally, please print the list"
   ]
  },
  {
   "cell_type": "code",
   "execution_count": 8,
   "metadata": {},
   "outputs": [
    {
     "name": "stdout",
     "output_type": "stream",
     "text": [
      "a\n",
      "b\n",
      "c\n",
      "['a', 'b', 'c']\n"
     ]
    }
   ],
   "source": [
    "name = []\n",
    "for i in range(0,3):\n",
    "    input_name = input()\n",
    "    name.append(input_name)\n",
    "print (name)\n"
   ]
  },
  {
   "cell_type": "markdown",
   "metadata": {},
   "source": [
    "<h1 align=center><font size = 5>Lesson 4 Exercise</font></h1>  "
   ]
  },
  {
   "cell_type": "markdown",
   "metadata": {},
   "source": [
    "***Question 1*** :\n",
    "\n",
    "print 九九乘法 out\n",
    "\n",
    " <img src = \"./multiplication_table.png\" width = 600, align = \"center\"></a>"
   ]
  },
  {
   "cell_type": "code",
   "execution_count": 20,
   "metadata": {},
   "outputs": [
    {
     "name": "stdout",
     "output_type": "stream",
     "text": [
      "\t1\t2\t3\t4\t5\t6\t7\t8\t9\n",
      "\t2\t4\t6\t8\t10\t12\t14\t16\t18\n",
      "\t3\t6\t9\t12\t15\t18\t21\t24\t27\n",
      "\t4\t8\t12\t16\t20\t24\t28\t32\t36\n",
      "\t5\t10\t15\t20\t25\t30\t35\t40\t45\n",
      "\t6\t12\t18\t24\t30\t36\t42\t48\t54\n",
      "\t7\t14\t21\t28\t35\t42\t49\t56\t63\n",
      "\t8\t16\t24\t32\t40\t48\t56\t64\t72\n",
      "\t9\t18\t27\t36\t45\t54\t63\t72\t81\n"
     ]
    }
   ],
   "source": [
    "for i in range(1,10):\n",
    "    line = ''\n",
    "    for j in range(1, 10):\n",
    "        line += '\\t' + str(i*j)\n",
    "    print (line)"
   ]
  },
  {
   "cell_type": "code",
   "execution_count": 18,
   "metadata": {},
   "outputs": [
    {
     "name": "stdout",
     "output_type": "stream",
     "text": [
      "\t 1 \t 2 \t 3 \t 4 \t 5 \t 6 \t 7 \t 8 \t 9\n",
      "\t 2 \t 4 \t 6 \t 8 \t 10 \t 12 \t 14 \t 16 \t 18\n",
      "\t 3 \t 6 \t 9 \t 12 \t 15 \t 18 \t 21 \t 24 \t 27\n",
      "\t 4 \t 8 \t 12 \t 16 \t 20 \t 24 \t 28 \t 32 \t 36\n",
      "\t 5 \t 10 \t 15 \t 20 \t 25 \t 30 \t 35 \t 40 \t 45\n",
      "\t 6 \t 12 \t 18 \t 24 \t 30 \t 36 \t 42 \t 48 \t 54\n",
      "\t 7 \t 14 \t 21 \t 28 \t 35 \t 42 \t 49 \t 56 \t 63\n",
      "\t 8 \t 16 \t 24 \t 32 \t 40 \t 48 \t 56 \t 64 \t 72\n",
      "\t 9 \t 18 \t 27 \t 36 \t 45 \t 54 \t 63 \t 72 \t 81\n"
     ]
    }
   ],
   "source": [
    "for i in range(1, 10):\n",
    "    for j in range(1, 10):\n",
    "        if j == 9:\n",
    "            print(\"\\t\", i*j)\n",
    "        else:\n",
    "            print(\"\\t\", i*j, end = ' ')"
   ]
  },
  {
   "cell_type": "markdown",
   "metadata": {},
   "source": [
    "***Question 2*** :\n",
    "\n",
    "Let say you are running a online course, use while loop keep asking your students whether they want to stay the lesson.<br/>\n",
    "Once, they input 'y' or 'Y', stop the loop\n",
    "\n",
    "\n",
    "step:\n",
    "1. Users of your program have to enter his name first.<br/>\n",
    "2. Then, print 'Welcome \"user name\"'<br/>\n",
    "3. Ask the user '\"user name\", do you want to start the lesson\"\n",
    "4. if the user input 'y' or 'Y', stop the loop then print 'start'. Otherwise, print 'I will wait you' and loop again"
   ]
  },
  {
   "cell_type": "code",
   "execution_count": 12,
   "metadata": {},
   "outputs": [
    {
     "name": "stdout",
     "output_type": "stream",
     "text": [
      "Please enter your name:\n",
      "a\n",
      "Welcome!!  a\n",
      "a, Do you want to start the lesson?(y/n)\n",
      "a\n",
      "I will wait you\n",
      "a, Do you want to start the lesson?(y/n)\n",
      "a\n",
      "I will wait you\n",
      "a, Do you want to start the lesson?(y/n)\n",
      "a\n",
      "I will wait you\n",
      "a, Do you want to start the lesson?(y/n)\n",
      "y\n",
      "Start\n"
     ]
    }
   ],
   "source": [
    "user_name = input('Please enter your name:\\n')\n",
    "print ('Welcome!! ', user_name)\n",
    "\n",
    "while True:\n",
    "    question = user_name + ', Do you want to start the lesson?(y/n)\\n'\n",
    "    answer = input(question)\n",
    "    if answer in ['y', 'Y']:\n",
    "        print ('Start')\n",
    "        break\n",
    "    else:\n",
    "        print ('I will wait you')"
   ]
  },
  {
   "cell_type": "markdown",
   "metadata": {},
   "source": [
    "***Question 3*** :\n",
    "\n",
    "You are creating a program to check the password.<br/>\n",
    "User have to input a password and the users can only attempt 5 timesfor the wrong password.<br/>\n",
    "If the password is valid, print ('Enter the system') then stop the loop<br/>\n",
    "If the password in invalid, pinrt ('Sorry, wrong password, you have \"x\" attempts left')\n",
    "\n",
    "Assume the password = 'abcdefg'"
   ]
  },
  {
   "cell_type": "code",
   "execution_count": 16,
   "metadata": {},
   "outputs": [
    {
     "name": "stdout",
     "output_type": "stream",
     "text": [
      "please enter you password：abcdefg\n",
      "Enter the system\n"
     ]
    }
   ],
   "source": [
    "count = 5\n",
    "password = 'abcdefg'\n",
    "while count:\n",
    "    input_password = input('please enter you password：')\n",
    "    if input_password == password:\n",
    "        print('Enter the system')\n",
    "        break\n",
    "    else:\n",
    "        count -= 1\n",
    "        print('Sorry, wrong password, you have {} attempts left'.format(count))\n",
    "        continue"
   ]
  }
 ],
 "metadata": {
  "kernelspec": {
   "display_name": "Python 3",
   "language": "python",
   "name": "python3"
  },
  "language_info": {
   "codemirror_mode": {
    "name": "ipython",
    "version": 3
   },
   "file_extension": ".py",
   "mimetype": "text/x-python",
   "name": "python",
   "nbconvert_exporter": "python",
   "pygments_lexer": "ipython3",
   "version": "3.8.3"
  }
 },
 "nbformat": 4,
 "nbformat_minor": 4
}
