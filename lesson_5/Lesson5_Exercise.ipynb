{
 "cells": [
  {
   "cell_type": "markdown",
   "metadata": {},
   "source": [
    "***Question 1***:\n",
    "\n",
    "create a function called, budget with three input, money, price, product<br/>\n",
    "calculate how many quantity the user are able to buy and <br/>\n",
    "print the following message:<br/>\n",
    "'I have xxxxx dollars, I can buy x product'  "
   ]
  },
  {
   "cell_type": "code",
   "execution_count": null,
   "metadata": {},
   "outputs": [],
   "source": []
  },
  {
   "cell_type": "markdown",
   "metadata": {},
   "source": [
    "***Question 2***:\n",
    "\n",
    "create a fucntion to compute the frequency of the words from the input\n",
    "\n",
    "exmaple:\n",
    "'New to Python or choosing between Python 2 and Python 3? Read Python 2 or Python 3.'\n",
    "\n",
    "2:2<br/>\n",
    "3.:1<br/>\n",
    "3?:1<br/>\n",
    "New:1<br/>\n",
    "Python:5<br/>\n",
    "Read:1<br/>\n",
    "and:1<br/>\n",
    "between:1<br/>\n",
    "choosing:1<br/>\n",
    "or:2<br/>\n",
    "to:1"
   ]
  },
  {
   "cell_type": "code",
   "execution_count": null,
   "metadata": {},
   "outputs": [],
   "source": []
  }
 ],
 "metadata": {
  "kernelspec": {
   "display_name": "Python 3",
   "language": "python",
   "name": "python3"
  },
  "language_info": {
   "codemirror_mode": {
    "name": "ipython",
    "version": 3
   },
   "file_extension": ".py",
   "mimetype": "text/x-python",
   "name": "python",
   "nbconvert_exporter": "python",
   "pygments_lexer": "ipython3",
   "version": "3.8.3"
  }
 },
 "nbformat": 4,
 "nbformat_minor": 4
}
