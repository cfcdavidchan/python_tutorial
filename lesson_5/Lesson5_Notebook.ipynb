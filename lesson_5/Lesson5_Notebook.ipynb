{
 "cells": [
  {
   "cell_type": "markdown",
   "metadata": {},
   "source": [
    "<h1 align=center><font size = 10>Python - Lesson 5</font></h1>  "
   ]
  },
  {
   "cell_type": "markdown",
   "metadata": {},
   "source": [
    "# Overview\n",
    "\n",
    "Some python object operations will be covered today:\n",
    "\n",
    "1. [function revision](#function-revision)\n",
    "2. [errors and exceptions](#errors-and-exceptions)\n",
    "3. [good coding practice](#good-coding-practice)"
   ]
  },
  {
   "cell_type": "markdown",
   "metadata": {},
   "source": [
    "<h1 align=center><font size = 5>function revision</font></h1>  "
   ]
  },
  {
   "cell_type": "markdown",
   "metadata": {},
   "source": [
    "- a reusable block of code\n",
    "- break down tasks\n",
    "- reuse your code\n",
    "\n",
    " <img src = \"./function.png\" width = 600, align = \"center\"></a>"
   ]
  },
  {
   "cell_type": "markdown",
   "metadata": {},
   "source": [
    "### Example:"
   ]
  },
  {
   "cell_type": "code",
   "execution_count": 58,
   "metadata": {},
   "outputs": [
    {
     "name": "stdout",
     "output_type": "stream",
     "text": [
      "1\n",
      "0\n"
     ]
    }
   ],
   "source": [
    "# incorrect example\n",
    "a = 0\n",
    "\n",
    "def add(a):\n",
    "    a += 1\n",
    "    return a\n",
    "print (add(a))\n",
    "print (a)"
   ]
  },
  {
   "cell_type": "markdown",
   "metadata": {},
   "source": [
    "***Question 1*** :\n",
    "\n",
    "- current a txt file to store student information (name, join date, expire date), where expire date will be a year after the join date.\n",
    "\n",
    "- Example of the students' data store in the txt file:\n",
    "        Jerry joins on 01-02-2011 and expire on 01-02-2012\n",
    "        Mandy joins on 05-11-2013 and expire on 05-11-2014\n",
    "        ..."
   ]
  },
  {
   "cell_type": "markdown",
   "metadata": {},
   "source": [
    "Steps:\n",
    "\n",
    "1. Create two variables, student_name and join_date\n",
    "2. Use join_date to create another variable, expired_date\n",
    "3. Use these three variables to create the required string"
   ]
  },
  {
   "cell_type": "code",
   "execution_count": 12,
   "metadata": {},
   "outputs": [
    {
     "name": "stdout",
     "output_type": "stream",
     "text": [
      "Jerry join on 01-02-2011 and expire on 01-02-2012\n"
     ]
    }
   ],
   "source": [
    "student_name = 'Jerry'\n",
    "join_date = '01-02-2011'\n",
    "# 3 ways to get the expired_date\n",
    "# 1. string slicing\n",
    "expired_year = join_date[-4:]\n",
    "expired_year = int(expired_year) + 1\n",
    "expired_year = str(expired_year)\n",
    "\n",
    "expired_date = join_date[:-4] + expired_year\n",
    "\n",
    "# 2. create a function to split the date, month and year. After that, add 1 to year and return the expire date.\n",
    "def get_expire(join_date):\n",
    "    split_word = '-'\n",
    "    date_list = []\n",
    "    \n",
    "    start_point = 0\n",
    "    \n",
    "    while True:\n",
    "        new_point = join_date.find(split_word, start_point)\n",
    "        if new_point >= 0:\n",
    "            date_list.append(join_date[start_point:new_point])\n",
    "            start_point = new_point + 1 \n",
    "        else:\n",
    "            date_list.append(join_date[start_point:])\n",
    "            break\n",
    "            \n",
    "    date_list[2] = str(int(date_list[2]) + 1)\n",
    "    \n",
    "    expire_date = date_list[0] + '-' + date_list[1] + '-' + date_list[2]\n",
    "#     expire_date = '-'.join(date_list)\n",
    "    return expire_date\n",
    "\n",
    "\n",
    "# 3. use split() function\n",
    "expire_date_list = join_date.split('-')\n",
    "expire_date_list[2] = str(int(expire_date_list[2]) + 1)\n",
    "expire_date = '-'.join(expire_date_list)\n",
    "\n",
    "target_string = student_name + ' join on ' + join_date + ' and expire on ' + expire_date\n",
    "\n",
    "print (target_string)"
   ]
  },
  {
   "cell_type": "markdown",
   "metadata": {},
   "source": [
    "### Example:\n",
    "4. write the string to txt"
   ]
  },
  {
   "cell_type": "code",
   "execution_count": 15,
   "metadata": {},
   "outputs": [],
   "source": [
    "filename = \"student_name.txt\"\n",
    "text_file = open(filename, \"a\")\n",
    "text_file.write(target_string + '\\n')\n",
    "text_file.close()"
   ]
  },
  {
   "cell_type": "markdown",
   "metadata": {},
   "source": [
    "### Example:\n",
    "5. combine it into a def"
   ]
  },
  {
   "cell_type": "code",
   "execution_count": 30,
   "metadata": {},
   "outputs": [],
   "source": [
    "def store_student_info(student_name, join_date, filename):\n",
    "    expire_date_list = join_date.split('-')\n",
    "    expire_date_list[2] = str(int(expire_date_list[2]) + 1)\n",
    "    expire_date = '-'.join(expire_date_list)\n",
    "    \n",
    "    target_string = ('%s join on %s and expire on %s\\n' % (student_name, join_date, expire_date))\n",
    "    \n",
    "    text_file = open(filename, \"a\")\n",
    "    text_file.write(target_string)\n",
    "    text_file.close()\n",
    "    print ('%s is added into file' % student_name)"
   ]
  },
  {
   "cell_type": "code",
   "execution_count": 66,
   "metadata": {},
   "outputs": [
    {
     "name": "stdout",
     "output_type": "stream",
     "text": [
      "David is added into file\n",
      "Jennifer is added into file\n"
     ]
    }
   ],
   "source": [
    "store_student_info('David', '01-02-2011', \"student_name.txt\")\n",
    "store_student_info('Jennifer', '04-02-2011', \"student_name.txt\")"
   ]
  },
  {
   "cell_type": "code",
   "execution_count": 43,
   "metadata": {},
   "outputs": [
    {
     "name": "stdout",
     "output_type": "stream",
     "text": [
      "100%\n",
      "abc\n",
      "123\n",
      "1.100000\n"
     ]
    },
    {
     "ename": "TypeError",
     "evalue": "%d format: a number is required, not str",
     "output_type": "error",
     "traceback": [
      "\u001b[0;31m---------------------------------------------------------------------------\u001b[0m",
      "\u001b[0;31mTypeError\u001b[0m                                 Traceback (most recent call last)",
      "\u001b[0;32m<ipython-input-43-709b545a8929>\u001b[0m in \u001b[0;36m<module>\u001b[0;34m\u001b[0m\n\u001b[1;32m      4\u001b[0m \u001b[0mprint\u001b[0m \u001b[0;34m(\u001b[0m\u001b[0;34m'%f'\u001b[0m \u001b[0;34m%\u001b[0m \u001b[0;36m1.1\u001b[0m\u001b[0;34m)\u001b[0m\u001b[0;34m\u001b[0m\u001b[0;34m\u001b[0m\u001b[0m\n\u001b[1;32m      5\u001b[0m \u001b[0;34m\u001b[0m\u001b[0m\n\u001b[0;32m----> 6\u001b[0;31m \u001b[0mprint\u001b[0m \u001b[0;34m(\u001b[0m\u001b[0;34m'%d'\u001b[0m \u001b[0;34m%\u001b[0m \u001b[0;34m'abc'\u001b[0m\u001b[0;34m)\u001b[0m\u001b[0;34m\u001b[0m\u001b[0;34m\u001b[0m\u001b[0m\n\u001b[0m",
      "\u001b[0;31mTypeError\u001b[0m: %d format: a number is required, not str"
     ]
    }
   ],
   "source": [
    "print ('100%')\n",
    "print ('%s' % 'abc')\n",
    "print ('%d' % 123)\n",
    "print ('%f' % 1.1)\n",
    "\n",
    "print ('%d' % 'abc')"
   ]
  },
  {
   "cell_type": "markdown",
   "metadata": {},
   "source": [
    "***Question 2*** :\n",
    "\n",
    "- change the join date and expire date of the student and save it\n",
    ".\n",
    "\n",
    "- Example :\n",
    "        change:\n",
    "            Jerry joins on 01-02-2011 and expire on 01-02-2012\n",
    "        to:\n",
    "            Jerry joins on 11-03-2012 and expire on 11-03-2013\n",
    "\n",
    "*tips:* you may need \n",
    "text_file = open(filename, \"r\") , 'read mode' <br/>\n",
    "all_lines = text_file.read()\n",
    "\n",
    "'r', read mode<br/>\n",
    "'w', write mode, which will create a new file if not exist or clean the existing data"
   ]
  },
  {
   "cell_type": "code",
   "execution_count": 100,
   "metadata": {},
   "outputs": [],
   "source": [
    "def change_record(student_name, join_date, filename):\n",
    "    # create the new row\n",
    "    expire_date_list = join_date.split('-')\n",
    "    expire_date_list[2] = str(int(expire_date_list[2]) + 1)\n",
    "    expire_date = '-'.join(expire_date_list)\n",
    "    \n",
    "    # create new record string\n",
    "    target_string = ('%s join on %s and expire on %s' % (student_name, join_date, expire_date))\n",
    "    \n",
    "    # get the student record to list\n",
    "    text_file = open(filename, \"r\")\n",
    "    all_record = text_file.read()\n",
    "    all_record = all_record.split('\\n')\n",
    "    \n",
    "    # get the index of the record\n",
    "#     index = 0\n",
    "#     for i in range(len(all_record)):\n",
    "#         if student_name in all_record[i]:\n",
    "#             break\n",
    "#         i += 1\n",
    "    ##\n",
    "    index = 0\n",
    "    for i, record in enumerate(all_record):\n",
    "        if student_name in record:\n",
    "            index = i\n",
    "            break\n",
    "            \n",
    "    # replace the record\n",
    "    all_record[index] = target_string\n",
    "     \n",
    "    # re-write the txt\n",
    "    text_file = open(filename, \"w\")\n",
    "    for record in all_record:\n",
    "        if record == '':\n",
    "            continue\n",
    "        record = record + '\\n'\n",
    "        text_file.write(record)\n",
    "    text_file.close()"
   ]
  },
  {
   "cell_type": "code",
   "execution_count": 101,
   "metadata": {},
   "outputs": [],
   "source": [
    "student_name = 'David'\n",
    "join_date = '04-09-2012'\n",
    "change_record(student_name, join_date, filename)"
   ]
  },
  {
   "cell_type": "markdown",
   "metadata": {},
   "source": [
    "There are lots of duplicated code, why dont we create different function and use the function inside the function"
   ]
  },
  {
   "cell_type": "markdown",
   "metadata": {},
   "source": [
    "***Question 3*** :\n",
    "    Create 4 fucntion\n",
    "    1. create_record function, input student_name and join_date then create the string for student record\n",
    "    2. append_txt, input filename and record_string then append the record_string into the filename\n",
    "    3. store_student_info, input filename, student_name and join_date, then use the first two function to achive the task\n",
    "    4. change_record, input filename, student_name and join_date, then use the first two function to achive the task"
   ]
  },
  {
   "cell_type": "code",
   "execution_count": 109,
   "metadata": {},
   "outputs": [],
   "source": [
    "def create_record(student_name, join_date):\n",
    "    expire_date_list = join_date.split('-')\n",
    "    expire_date_list[2] = str(int(expire_date_list[2]) + 1)\n",
    "    expire_date = '-'.join(expire_date_list)\n",
    "    \n",
    "    target_string = ('%s join on %s and expire on %s' % (student_name, join_date, expire_date))\n",
    "    return target_string\n",
    "\n",
    "def append_txt(filename, record_string):\n",
    "    text_file = open(filename, \"a\")\n",
    "    target_string = record_string + '\\n'\n",
    "    text_file.write(target_string)\n",
    "    text_file.close()\n",
    "\n",
    "def store_student_info(student_name, join_date, filename):\n",
    "    target_string = create_record(student_name, join_date)\n",
    "    append_txt(filename, target_string)\n",
    "    \n",
    "def change_record(student_name, join_date, filename):\n",
    "    target_string = create_record(student_name, join_date)\n",
    "    \n",
    "    text_file = open(filename, \"r\")\n",
    "    all_record = text_file.read()\n",
    "    all_record = all_record.split('\\n')\n",
    "    \n",
    "    index = 0\n",
    "    for i, record in enumerate(all_record):\n",
    "        if student_name in record:\n",
    "            index = i\n",
    "            break\n",
    "            \n",
    "    all_record[index] = target_string\n",
    "    \n",
    "    text_file = open(filename, \"w\")\n",
    "    text_file.close()\n",
    "    for record in all_record:\n",
    "        if record == '':\n",
    "            continue\n",
    "        append_txt(filename, record)"
   ]
  },
  {
   "cell_type": "code",
   "execution_count": 108,
   "metadata": {},
   "outputs": [],
   "source": [
    "store_student_info('David', '01-02-2011', \"student_name.txt\")\n",
    "store_student_info('Jennifer', '04-02-2011', \"student_name.txt\")"
   ]
  },
  {
   "cell_type": "code",
   "execution_count": 111,
   "metadata": {},
   "outputs": [],
   "source": [
    "change_record('David', '01-08-2011', \"student_name.txt\")"
   ]
  },
  {
   "cell_type": "markdown",
   "metadata": {},
   "source": [
    "<h1 align=center><font size = 5>errors and exceptions</font></h1>  "
   ]
  },
  {
   "cell_type": "markdown",
   "metadata": {},
   "source": [
    "What happen if our program cannot run becasue of some errors"
   ]
  },
  {
   "cell_type": "code",
   "execution_count": 112,
   "metadata": {},
   "outputs": [
    {
     "ename": "IndexError",
     "evalue": "list index out of range",
     "output_type": "error",
     "traceback": [
      "\u001b[0;31m---------------------------------------------------------------------------\u001b[0m",
      "\u001b[0;31mIndexError\u001b[0m                                Traceback (most recent call last)",
      "\u001b[0;32m<ipython-input-112-e12784e789ad>\u001b[0m in \u001b[0;36m<module>\u001b[0;34m\u001b[0m\n\u001b[0;32m----> 1\u001b[0;31m \u001b[0mstore_student_info\u001b[0m\u001b[0;34m(\u001b[0m\u001b[0;34m'David'\u001b[0m\u001b[0;34m,\u001b[0m \u001b[0;34m'01-02'\u001b[0m\u001b[0;34m,\u001b[0m \u001b[0;34m\"student_name.txt\"\u001b[0m\u001b[0;34m)\u001b[0m\u001b[0;34m\u001b[0m\u001b[0;34m\u001b[0m\u001b[0m\n\u001b[0m",
      "\u001b[0;32m<ipython-input-109-075a3375862f>\u001b[0m in \u001b[0;36mstore_student_info\u001b[0;34m(student_name, join_date, filename)\u001b[0m\n\u001b[1;32m     14\u001b[0m \u001b[0;34m\u001b[0m\u001b[0m\n\u001b[1;32m     15\u001b[0m \u001b[0;32mdef\u001b[0m \u001b[0mstore_student_info\u001b[0m\u001b[0;34m(\u001b[0m\u001b[0mstudent_name\u001b[0m\u001b[0;34m,\u001b[0m \u001b[0mjoin_date\u001b[0m\u001b[0;34m,\u001b[0m \u001b[0mfilename\u001b[0m\u001b[0;34m)\u001b[0m\u001b[0;34m:\u001b[0m\u001b[0;34m\u001b[0m\u001b[0;34m\u001b[0m\u001b[0m\n\u001b[0;32m---> 16\u001b[0;31m     \u001b[0mtarget_string\u001b[0m \u001b[0;34m=\u001b[0m \u001b[0mcreate_record\u001b[0m\u001b[0;34m(\u001b[0m\u001b[0mstudent_name\u001b[0m\u001b[0;34m,\u001b[0m \u001b[0mjoin_date\u001b[0m\u001b[0;34m)\u001b[0m\u001b[0;34m\u001b[0m\u001b[0;34m\u001b[0m\u001b[0m\n\u001b[0m\u001b[1;32m     17\u001b[0m     \u001b[0mappend_txt\u001b[0m\u001b[0;34m(\u001b[0m\u001b[0mfilename\u001b[0m\u001b[0;34m,\u001b[0m \u001b[0mtarget_string\u001b[0m\u001b[0;34m)\u001b[0m\u001b[0;34m\u001b[0m\u001b[0;34m\u001b[0m\u001b[0m\n\u001b[1;32m     18\u001b[0m \u001b[0;34m\u001b[0m\u001b[0m\n",
      "\u001b[0;32m<ipython-input-109-075a3375862f>\u001b[0m in \u001b[0;36mcreate_record\u001b[0;34m(student_name, join_date)\u001b[0m\n\u001b[1;32m      1\u001b[0m \u001b[0;32mdef\u001b[0m \u001b[0mcreate_record\u001b[0m\u001b[0;34m(\u001b[0m\u001b[0mstudent_name\u001b[0m\u001b[0;34m,\u001b[0m \u001b[0mjoin_date\u001b[0m\u001b[0;34m)\u001b[0m\u001b[0;34m:\u001b[0m\u001b[0;34m\u001b[0m\u001b[0;34m\u001b[0m\u001b[0m\n\u001b[1;32m      2\u001b[0m     \u001b[0mexpire_date_list\u001b[0m \u001b[0;34m=\u001b[0m \u001b[0mjoin_date\u001b[0m\u001b[0;34m.\u001b[0m\u001b[0msplit\u001b[0m\u001b[0;34m(\u001b[0m\u001b[0;34m'-'\u001b[0m\u001b[0;34m)\u001b[0m\u001b[0;34m\u001b[0m\u001b[0;34m\u001b[0m\u001b[0m\n\u001b[0;32m----> 3\u001b[0;31m     \u001b[0mexpire_date_list\u001b[0m\u001b[0;34m[\u001b[0m\u001b[0;36m2\u001b[0m\u001b[0;34m]\u001b[0m \u001b[0;34m=\u001b[0m \u001b[0mstr\u001b[0m\u001b[0;34m(\u001b[0m\u001b[0mint\u001b[0m\u001b[0;34m(\u001b[0m\u001b[0mexpire_date_list\u001b[0m\u001b[0;34m[\u001b[0m\u001b[0;36m2\u001b[0m\u001b[0;34m]\u001b[0m\u001b[0;34m)\u001b[0m \u001b[0;34m+\u001b[0m \u001b[0;36m1\u001b[0m\u001b[0;34m)\u001b[0m\u001b[0;34m\u001b[0m\u001b[0;34m\u001b[0m\u001b[0m\n\u001b[0m\u001b[1;32m      4\u001b[0m     \u001b[0mexpire_date\u001b[0m \u001b[0;34m=\u001b[0m \u001b[0;34m'-'\u001b[0m\u001b[0;34m.\u001b[0m\u001b[0mjoin\u001b[0m\u001b[0;34m(\u001b[0m\u001b[0mexpire_date_list\u001b[0m\u001b[0;34m)\u001b[0m\u001b[0;34m\u001b[0m\u001b[0;34m\u001b[0m\u001b[0m\n\u001b[1;32m      5\u001b[0m \u001b[0;34m\u001b[0m\u001b[0m\n",
      "\u001b[0;31mIndexError\u001b[0m: list index out of range"
     ]
    }
   ],
   "source": [
    "store_student_info('David', '01-02', \"student_name.txt\")"
   ]
  },
  {
   "cell_type": "code",
   "execution_count": 113,
   "metadata": {},
   "outputs": [
    {
     "ename": "TypeError",
     "evalue": "can only concatenate str (not \"int\") to str",
     "output_type": "error",
     "traceback": [
      "\u001b[0;31m---------------------------------------------------------------------------\u001b[0m",
      "\u001b[0;31mTypeError\u001b[0m                                 Traceback (most recent call last)",
      "\u001b[0;32m<ipython-input-113-a7b598d66866>\u001b[0m in \u001b[0;36m<module>\u001b[0;34m\u001b[0m\n\u001b[0;32m----> 1\u001b[0;31m \u001b[0mx\u001b[0m \u001b[0;34m=\u001b[0m \u001b[0;34m'abc'\u001b[0m \u001b[0;34m+\u001b[0m \u001b[0;36m1\u001b[0m\u001b[0;34m\u001b[0m\u001b[0;34m\u001b[0m\u001b[0m\n\u001b[0m",
      "\u001b[0;31mTypeError\u001b[0m: can only concatenate str (not \"int\") to str"
     ]
    }
   ],
   "source": [
    "x = 'abc' + 1"
   ]
  },
  {
   "cell_type": "markdown",
   "metadata": {},
   "source": [
    "We can use [try error method](https://docs.python.org/3/tutorial/errors.html) to manage it"
   ]
  },
  {
   "cell_type": "markdown",
   "metadata": {},
   "source": [
    "### Example:"
   ]
  },
  {
   "cell_type": "code",
   "execution_count": 114,
   "metadata": {},
   "outputs": [
    {
     "name": "stdout",
     "output_type": "stream",
     "text": [
      "Error appear\n"
     ]
    }
   ],
   "source": [
    "try:\n",
    "    x = 'abc' + 1\n",
    "except:\n",
    "    print ('Error appear')"
   ]
  },
  {
   "cell_type": "code",
   "execution_count": 115,
   "metadata": {},
   "outputs": [
    {
     "name": "stdout",
     "output_type": "stream",
     "text": [
      "Error appear\n"
     ]
    }
   ],
   "source": [
    "try:\n",
    "    x = 'abc' + 1\n",
    "except TypeError:\n",
    "    print ('Error appear')"
   ]
  },
  {
   "cell_type": "code",
   "execution_count": 116,
   "metadata": {},
   "outputs": [
    {
     "ename": "TypeError",
     "evalue": "can only concatenate str (not \"int\") to str",
     "output_type": "error",
     "traceback": [
      "\u001b[0;31m---------------------------------------------------------------------------\u001b[0m",
      "\u001b[0;31mTypeError\u001b[0m                                 Traceback (most recent call last)",
      "\u001b[0;32m<ipython-input-116-e082d11514c4>\u001b[0m in \u001b[0;36m<module>\u001b[0;34m\u001b[0m\n\u001b[1;32m      1\u001b[0m \u001b[0;32mtry\u001b[0m\u001b[0;34m:\u001b[0m\u001b[0;34m\u001b[0m\u001b[0;34m\u001b[0m\u001b[0m\n\u001b[0;32m----> 2\u001b[0;31m     \u001b[0mx\u001b[0m \u001b[0;34m=\u001b[0m \u001b[0;34m'abc'\u001b[0m \u001b[0;34m+\u001b[0m \u001b[0;36m1\u001b[0m\u001b[0;34m\u001b[0m\u001b[0;34m\u001b[0m\u001b[0m\n\u001b[0m\u001b[1;32m      3\u001b[0m \u001b[0;32mexcept\u001b[0m \u001b[0mIndexError\u001b[0m\u001b[0;34m:\u001b[0m\u001b[0;34m\u001b[0m\u001b[0;34m\u001b[0m\u001b[0m\n\u001b[1;32m      4\u001b[0m     \u001b[0mprint\u001b[0m \u001b[0;34m(\u001b[0m\u001b[0;34m'Error appear'\u001b[0m\u001b[0;34m)\u001b[0m\u001b[0;34m\u001b[0m\u001b[0;34m\u001b[0m\u001b[0m\n",
      "\u001b[0;31mTypeError\u001b[0m: can only concatenate str (not \"int\") to str"
     ]
    }
   ],
   "source": [
    "try:\n",
    "    x = 'abc' + 1\n",
    "except IndexError:\n",
    "    print ('Error appear')"
   ]
  },
  {
   "cell_type": "markdown",
   "metadata": {},
   "source": [
    "***Question 4*** :\n",
    "\n",
    "Create a function, sum_up takes two input (x, y) and return the sum of the two inputs<br/>\n",
    "inside the function if there is error, return None"
   ]
  },
  {
   "cell_type": "code",
   "execution_count": 121,
   "metadata": {},
   "outputs": [],
   "source": [
    "def sum_up(x, y):\n",
    "    try:\n",
    "        answer = x + y\n",
    "    except:\n",
    "        return None\n",
    "    return answer"
   ]
  },
  {
   "cell_type": "code",
   "execution_count": 120,
   "metadata": {},
   "outputs": [
    {
     "name": "stdout",
     "output_type": "stream",
     "text": [
      "3\n",
      "None\n"
     ]
    }
   ],
   "source": [
    "print (sum_up(1,2))\n",
    "print (sum_up('abc', 2))"
   ]
  },
  {
   "cell_type": "markdown",
   "metadata": {},
   "source": [
    "<h1 align=center><font size = 5>good coding practice</font></h1>  "
   ]
  },
  {
   "cell_type": "markdown",
   "metadata": {},
   "source": [
    "### Example:"
   ]
  },
  {
   "cell_type": "code",
   "execution_count": 122,
   "metadata": {},
   "outputs": [],
   "source": [
    "def create_record(student_name, join_date):\n",
    "    \"\"\"\n",
    "    :usage: create expire date string\n",
    "    :param student_name: str()\n",
    "    :param join_date: str(), dd/mm/yyyy\n",
    "    :return str()\n",
    "    \"\"\"\n",
    "    # break the join_date into a list\n",
    "    expire_date_list = join_date.split('-')\n",
    "    #  add one year\n",
    "    expire_date_list[2] = str(int(expire_date_list[2]) + 1)\n",
    "    # create the expire_date = dd-mm-yyyy\n",
    "    expire_date = '-'.join(expire_date_list)\n",
    "    \n",
    "    target_string = ('%s join on %s and expire on %s' % (student_name, join_date, expire_date))\n",
    "    return target_string\n",
    "\n",
    "def append_txt(filename, record_string):\n",
    "    \"\"\"\n",
    "    :usage: append string into the target txt file\n",
    "    :param filename: str()\n",
    "    :param record_string: str()\n",
    "    :return None\n",
    "    \"\"\"\n",
    "    # append or create a txt file\n",
    "    text_file = open(filename, \"a\")\n",
    "    target_string = record_string + '\\n'\n",
    "    text_file.write(target_string) #append the string\n",
    "    text_file.close()\n",
    "\n",
    "def store_student_info(student_name, join_date, filename):\n",
    "    \"\"\"\n",
    "    :usage: append student record into the target txt file\n",
    "    :param student_name: str()\n",
    "    :param join_date: str()\n",
    "    :param filename: str()\n",
    "    :return None\n",
    "    \"\"\"\n",
    "    target_string = create_record(student_name, join_date) # create the record string\n",
    "    append_txt(filename, target_string) #append it into the file\n",
    "    \n",
    "def change_record(student_name, join_date, filename):\n",
    "    \"\"\"\n",
    "    :usage: change student record from the target txt file\n",
    "    :param student_name: str()\n",
    "    :param join_date: str()\n",
    "    :param filename: str()\n",
    "    :return None\n",
    "    \"\"\"\n",
    "    target_string = create_record(student_name, join_date) # create the record string\n",
    "    \n",
    "    # get all the student record\n",
    "    text_file = open(filename, \"r\")\n",
    "    all_record = text_file.read()\n",
    "    all_record = all_record.split('\\n')\n",
    "    \n",
    "    # find the student's previous record\n",
    "    index = 0\n",
    "    for i, record in enumerate(all_record):\n",
    "        if student_name in record:\n",
    "            index = i\n",
    "            break\n",
    "    # replace the record \n",
    "    all_record[index] = target_string\n",
    "    \n",
    "    # clean all the previous record from the txt\n",
    "    text_file = open(filename, \"w\")\n",
    "    text_file.close()\n",
    "    \n",
    "    # add back all the record with the changed record\n",
    "    for record in all_record:\n",
    "        if record == '': #if the record is '' skip it\n",
    "            continue\n",
    "        append_txt(filename, record) "
   ]
  }
 ],
 "metadata": {
  "kernelspec": {
   "display_name": "Python 3",
   "language": "python",
   "name": "python3"
  },
  "language_info": {
   "codemirror_mode": {
    "name": "ipython",
    "version": 3
   },
   "file_extension": ".py",
   "mimetype": "text/x-python",
   "name": "python",
   "nbconvert_exporter": "python",
   "pygments_lexer": "ipython3",
   "version": "3.8.3"
  }
 },
 "nbformat": 4,
 "nbformat_minor": 4
}
