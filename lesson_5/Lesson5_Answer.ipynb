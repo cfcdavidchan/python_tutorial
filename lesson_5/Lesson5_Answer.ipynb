{
 "cells": [
  {
   "cell_type": "markdown",
   "metadata": {},
   "source": [
    "<h1 align=center><font size = 5>In class question</font></h1>  "
   ]
  },
  {
   "cell_type": "markdown",
   "metadata": {},
   "source": [
    "***Question 1*** :\n",
    "\n",
    "- current a txt file to store student information (name, join date, expire date), where expire date will be a year after the join date.\n",
    "\n",
    "- Example of the students' data store in the txt file:\n",
    "        Jerry joins on 01-02-2011 and expire on 01-02-2012\n",
    "        Mandy joins on 05-11-2013 and expire on 05-11-2014\n",
    "        ..."
   ]
  },
  {
   "cell_type": "code",
   "execution_count": 2,
   "metadata": {},
   "outputs": [],
   "source": [
    "def store_student_info(student_name, join_date, filename):\n",
    "    expire_date_list = join_date.split('-')\n",
    "    expire_date_list[2] = str(int(expire_date_list[2]) + 1)\n",
    "    expire_date = '-'.join(expire_date_list)\n",
    "    \n",
    "    target_string = ('%s join on %s and expire on %s\\n' % (student_name, join_date, expire_date))\n",
    "    \n",
    "    text_file = open(filename, \"a\")\n",
    "    text_file.write(target_string)\n",
    "    text_file.close()\n",
    "    print ('%s is added into file' % student_name)"
   ]
  },
  {
   "cell_type": "markdown",
   "metadata": {},
   "source": [
    "***Question 2*** :\n",
    "\n",
    "- change the join date and expire date of the student and save it\n",
    ".\n",
    "\n",
    "- Example :\n",
    "        change:\n",
    "            Jerry joins on 01-02-2011 and expire on 01-02-2012\n",
    "        to:\n",
    "            Jerry joins on 11-03-2012 and expire on 11-03-2013\n",
    "\n",
    "*tips:* you may need \n",
    "text_file = open(filename, \"r\") , 'read mode' <br/>\n",
    "all_lines = text_file.read()"
   ]
  },
  {
   "cell_type": "code",
   "execution_count": 3,
   "metadata": {},
   "outputs": [],
   "source": [
    "def change_record(student_name, join_date, filename):\n",
    "    # create the new row\n",
    "    expire_date_list = join_date.split('-')\n",
    "    expire_date_list[2] = str(int(expire_date_list[2]) + 1)\n",
    "    expire_date = '-'.join(expire_date_list)\n",
    "    \n",
    "    # create new record string\n",
    "    target_string = ('%s join on %s and expire on %s' % (student_name, join_date, expire_date))\n",
    "    \n",
    "    # get the student record to list\n",
    "    text_file = open(filename, \"r\")\n",
    "    all_record = text_file.read()\n",
    "    all_record = all_record.split('\\n')\n",
    "    \n",
    "    # get the index of the record\n",
    "#     index = 0\n",
    "#     for i in range(len(all_record)):\n",
    "#         if student_name in all_record[i]:\n",
    "#             break\n",
    "#         i += 1\n",
    "    ##\n",
    "    index = 0\n",
    "    for i, record in enumerate(all_record):\n",
    "        if student_name in record:\n",
    "            index = i\n",
    "            break\n",
    "            \n",
    "    # replace the record\n",
    "    all_record[index] = target_string\n",
    "     \n",
    "    # re-write the txt\n",
    "    text_file = open(filename, \"w\")\n",
    "    for record in all_record:\n",
    "        if record == '':\n",
    "            continue\n",
    "        record = record + '\\n'\n",
    "        text_file.write(record)\n",
    "    text_file.close()"
   ]
  },
  {
   "cell_type": "markdown",
   "metadata": {},
   "source": [
    "***Question 3*** :\n",
    "    Create 4 fucntion\n",
    "    1. create_record function, input student_name and join_date then create the string for student record\n",
    "    2. append_txt, input filename and record_string then append the record_string into the filename\n",
    "    3. store_student_info, input filename, student_name and join_date, then use the first two function to achive the task\n",
    "    4. change_record, input filename, student_name and join_date, then use the first two function to achive the task"
   ]
  },
  {
   "cell_type": "code",
   "execution_count": 4,
   "metadata": {},
   "outputs": [],
   "source": [
    "def create_record(student_name, join_date):\n",
    "    expire_date_list = join_date.split('-')\n",
    "    expire_date_list[2] = str(int(expire_date_list[2]) + 1)\n",
    "    expire_date = '-'.join(expire_date_list)\n",
    "    \n",
    "    target_string = ('%s join on %s and expire on %s' % (student_name, join_date, expire_date))\n",
    "    return target_string\n",
    "\n",
    "def append_txt(filename, record_string):\n",
    "    text_file = open(filename, \"a\")\n",
    "    target_string = record_string + '\\n'\n",
    "    text_file.write(target_string)\n",
    "    text_file.close()\n",
    "\n",
    "def store_student_info(student_name, join_date, filename):\n",
    "    target_string = create_record(student_name, join_date)\n",
    "    append_txt(filename, target_string)\n",
    "    \n",
    "def change_record(student_name, join_date, filename):\n",
    "    target_string = create_record(student_name, join_date)\n",
    "    \n",
    "    text_file = open(filename, \"r\")\n",
    "    all_record = text_file.read()\n",
    "    all_record = all_record.split('\\n')\n",
    "    \n",
    "    index = 0\n",
    "    for i, record in enumerate(all_record):\n",
    "        if student_name in record:\n",
    "            index = i\n",
    "            break\n",
    "            \n",
    "    # replace the record\n",
    "    all_record[index] = target_string\n",
    "    \n",
    "    text_file = open(filename, \"w\")\n",
    "    text_file.close()\n",
    "    for record in all_record:\n",
    "        if record == '':\n",
    "            continue\n",
    "        append_txt(filename, target_string)"
   ]
  },
  {
   "cell_type": "markdown",
   "metadata": {},
   "source": [
    "***Question 4*** :\n",
    "\n",
    "Create a function, sum_up takes two input (x, y) and return the sum of the two inputs<br/>\n",
    "inside the function if there is error, return None"
   ]
  },
  {
   "cell_type": "code",
   "execution_count": 5,
   "metadata": {},
   "outputs": [],
   "source": [
    "def sum_up(x, y):\n",
    "    try:\n",
    "        answer = x + y\n",
    "    except:\n",
    "        return None\n",
    "    return answer"
   ]
  },
  {
   "cell_type": "markdown",
   "metadata": {},
   "source": [
    "<h1 align=center><font size = 5>Lesson 2 Exercise</font></h1>  "
   ]
  },
  {
   "cell_type": "markdown",
   "metadata": {},
   "source": [
    "***Question 1***:\n",
    "\n",
    "create a function called, budget with three input, money, price, product<br/>\n",
    "calculate how many quantity the user are able to buy and <br/>\n",
    "print the following message:<br/>\n",
    "'I have xxxxx dollars, I can buy x product'  "
   ]
  },
  {
   "cell_type": "code",
   "execution_count": 9,
   "metadata": {},
   "outputs": [
    {
     "name": "stdout",
     "output_type": "stream",
     "text": [
      "I have 10 dollars, I can buy 3 apple\n"
     ]
    }
   ],
   "source": [
    "def budget(money, price, product):\n",
    "    quantity = int(money/price)\n",
    "    print ('I have %d dollars, I can buy %d %s' % (money, quantity, product))\n",
    "    \n",
    "budget(10, 3, 'apple')"
   ]
  },
  {
   "cell_type": "markdown",
   "metadata": {},
   "source": [
    "***Question 2***:\n",
    "\n",
    "create a fucntion to compute the frequency of the words from the input\n",
    "\n",
    "exmaple:\n",
    "'New to Python or choosing between Python 2 and Python 3? Read Python 2 or Python 3.'\n",
    "\n",
    "2:2<br/>\n",
    "3.:1<br/>\n",
    "3?:1<br/>\n",
    "New:1<br/>\n",
    "Python:5<br/>\n",
    "Read:1<br/>\n",
    "and:1<br/>\n",
    "between:1<br/>\n",
    "choosing:1<br/>\n",
    "or:2<br/>\n",
    "to:1"
   ]
  },
  {
   "cell_type": "code",
   "execution_count": 10,
   "metadata": {},
   "outputs": [
    {
     "name": "stdout",
     "output_type": "stream",
     "text": [
      "[['New', 1], ['to', 1], ['Python', 5], ['or', 2], ['choosing', 1], ['between', 1], ['2', 2], ['and', 1], ['3?', 1], ['Read', 1], ['3.', 1]]\n"
     ]
    }
   ],
   "source": [
    "def count_word(string):\n",
    "    all_word = []\n",
    "    string_list = string.split(' ')\n",
    "    for word in string_list:      \n",
    "        try:\n",
    "            word_in_all_word = [word_info[0] for word_info in all_word]\n",
    "            count_in_all_word = [word_info[1] for word_info in all_word]\n",
    "            \n",
    "            word_index = word_in_all_word.index(word)\n",
    "            orginal_count = count_in_all_word[word_index]\n",
    "            \n",
    "            all_word[word_index][1] = orginal_count + 1\n",
    "        except:\n",
    "            all_word.append([word, 1])\n",
    "            \n",
    "            \n",
    "    return all_word\n",
    "\n",
    "string = 'New to Python or choosing between Python 2 and Python 3? Read Python 2 or Python 3.'\n",
    "all_word = count_word(string)\n",
    "print (all_word)"
   ]
  }
 ],
 "metadata": {
  "kernelspec": {
   "display_name": "Python 3",
   "language": "python",
   "name": "python3"
  },
  "language_info": {
   "codemirror_mode": {
    "name": "ipython",
    "version": 3
   },
   "file_extension": ".py",
   "mimetype": "text/x-python",
   "name": "python",
   "nbconvert_exporter": "python",
   "pygments_lexer": "ipython3",
   "version": "3.8.3"
  }
 },
 "nbformat": 4,
 "nbformat_minor": 4
}
