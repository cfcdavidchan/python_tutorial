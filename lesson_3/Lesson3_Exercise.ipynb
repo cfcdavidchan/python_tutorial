{
 "cells": [
  {
   "cell_type": "markdown",
   "metadata": {},
   "source": [
    "<h1 align=center><font size = 5>Lesson 3 Exercise</font></h1>  "
   ]
  },
  {
   "cell_type": "markdown",
   "metadata": {},
   "source": [
    "***Question 1***:\n",
    "\n",
    "print 1-10.<br/>\n",
    "if the number can be divided by 2, print ('bingo') only rather than the number."
   ]
  },
  {
   "cell_type": "code",
   "execution_count": null,
   "metadata": {},
   "outputs": [],
   "source": []
  },
  {
   "cell_type": "markdown",
   "metadata": {},
   "source": [
    "***Question 2***:\n",
    "\n",
    "we have a list,<br/>\n",
    "the_list = [10,20,30,40,50]<br/>\n",
    "print the element of the list in reverse order<br/>"
   ]
  },
  {
   "cell_type": "code",
   "execution_count": null,
   "metadata": {},
   "outputs": [],
   "source": [
    "the_list = [10,20,30,40,50]"
   ]
  },
  {
   "cell_type": "markdown",
   "metadata": {},
   "source": [
    "***Question 3***:\n",
    "\n",
    "we have a list of some English name,<br/>\n",
    "the_list = ['Marry','Daniel','Cherry','Boby','David','Damien','Donald','Kate','Hazel','Duncan']<br/>\n",
    "print the name that starts with letter 'D'<br/>"
   ]
  },
  {
   "cell_type": "code",
   "execution_count": null,
   "metadata": {},
   "outputs": [],
   "source": []
  },
  {
   "cell_type": "markdown",
   "metadata": {},
   "source": [
    "Bonus: ***Question 4**:\n",
    "\n",
    "we have a list of some English name,<br/>\n",
    "the_list = ['Marry','Daniel','Cherry','Boby','david','Damien','donald','Kate','Hazel','Duncan']<br/>\n",
    "print the name that starts with letter 'D' or 'd' <br/>"
   ]
  },
  {
   "cell_type": "code",
   "execution_count": null,
   "metadata": {},
   "outputs": [],
   "source": []
  },
  {
   "cell_type": "markdown",
   "metadata": {},
   "source": [
    "***Question 5***:\n",
    "\n",
    "Print multiplication table(1-10) of given number<br/>\n",
    "let say the number is 3"
   ]
  },
  {
   "cell_type": "code",
   "execution_count": 2,
   "metadata": {},
   "outputs": [
    {
     "name": "stdout",
     "output_type": "stream",
     "text": [
      "3\n",
      "6\n",
      "9\n",
      "12\n",
      "15\n",
      "18\n",
      "21\n",
      "24\n",
      "27\n",
      "30\n"
     ]
    }
   ],
   "source": [
    "number = 3\n",
    "for i in range (1,11):\n",
    "    print (3*i)"
   ]
  },
  {
   "cell_type": "markdown",
   "metadata": {},
   "source": [
    "***Question 6***:\n",
    "\n",
    "We have a nested list to store all the employee information of a company.<br/>\n",
    "The struture of the list is following:<br/>\n",
    "[[name 1, age 1, salary],<br/>\n",
    " [name 2, age 2, salary],<br/>\n",
    " [name 3, age 3, salary],<br/>\n",
    " ...]\n",
    " \n",
    "The task:\n",
    "1. print the employee name each by each.\n",
    "2. print the average age of the employee\n",
    "3. print the total salary that the company has to pay\n",
    "\n",
    "\n",
    "the example list will be:<br/>\n",
    "employees = [['Tom',18, 20000], ['Cherry', 25, 25000], ['Karry' , 21, 30000], ['Steve', 28, 20000], ['Bob', 40, 500000]]"
   ]
  },
  {
   "cell_type": "code",
   "execution_count": null,
   "metadata": {},
   "outputs": [],
   "source": []
  },
  {
   "cell_type": "markdown",
   "metadata": {},
   "source": [
    "Bonus: ***Question 7**:\n",
    "\n",
    "we have a list,<br/>\n",
    "the_list = [1,2,3,4,5,6,7,8,9,10,11,12,13,14,15]\n",
    "\n",
    "loop the string, print the element of the list with the following rules:\n",
    "1. print it only if the element cannot be divided by 3\n",
    "2. stop the loop if the element is equal to 11\n"
   ]
  },
  {
   "cell_type": "code",
   "execution_count": null,
   "metadata": {},
   "outputs": [],
   "source": []
  }
 ],
 "metadata": {
  "kernelspec": {
   "display_name": "Python 3",
   "language": "python",
   "name": "python3"
  },
  "language_info": {
   "codemirror_mode": {
    "name": "ipython",
    "version": 3
   },
   "file_extension": ".py",
   "mimetype": "text/x-python",
   "name": "python",
   "nbconvert_exporter": "python",
   "pygments_lexer": "ipython3",
   "version": "3.8.3"
  }
 },
 "nbformat": 4,
 "nbformat_minor": 4
}
