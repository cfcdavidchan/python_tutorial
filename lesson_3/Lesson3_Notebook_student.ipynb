{
 "cells": [
  {
   "cell_type": "markdown",
   "metadata": {},
   "source": [
    "<h1 align=center><font size = 10>Python - Lesson 3</font></h1>  "
   ]
  },
  {
   "cell_type": "markdown",
   "metadata": {},
   "source": [
    "# Overview\n",
    "\n",
    "Basic python knowledge will be covered today:\n",
    "\n",
    "1. [if statements and conditions](#if-statements-and-conditions)\n",
    "2. [for loop](#for-loop)\n"
   ]
  },
  {
   "cell_type": "markdown",
   "metadata": {},
   "source": [
    "<h1 align=center><font size = 5>if statements and conditions</font></h1>  "
   ]
  },
  {
   "cell_type": "markdown",
   "metadata": {},
   "source": [
    "operator: if , else\n",
    "\n",
    "- Equals: x == y\n",
    "- Not Equals: x != y\n",
    "- Less than: x < y\n",
    "- Less than or equal to: x <= y\n",
    "- Greater than: x > y\n",
    "- Greater than or equal to: x >= y"
   ]
  },
  {
   "cell_type": "markdown",
   "metadata": {},
   "source": [
    "### Example:"
   ]
  },
  {
   "cell_type": "code",
   "execution_count": 2,
   "metadata": {},
   "outputs": [
    {
     "name": "stdout",
     "output_type": "stream",
     "text": [
      "equals\n"
     ]
    }
   ],
   "source": [
    "x = 'a'\n",
    "y = 'a'\n",
    "if x == y:\n",
    "    print ('equals')"
   ]
  },
  {
   "cell_type": "code",
   "execution_count": 3,
   "metadata": {},
   "outputs": [
    {
     "name": "stdout",
     "output_type": "stream",
     "text": [
      "not equal\n"
     ]
    }
   ],
   "source": [
    "x = 34\n",
    "y = 92\n",
    "if x != y:\n",
    "    print ('not equal')"
   ]
  },
  {
   "cell_type": "code",
   "execution_count": 4,
   "metadata": {},
   "outputs": [
    {
     "name": "stdout",
     "output_type": "stream",
     "text": [
      "x less than y\n"
     ]
    }
   ],
   "source": [
    "x = 10\n",
    "y = 90\n",
    "if x < y:\n",
    "    print ('x less than y')"
   ]
  },
  {
   "cell_type": "code",
   "execution_count": 5,
   "metadata": {},
   "outputs": [
    {
     "name": "stdout",
     "output_type": "stream",
     "text": [
      "x equal or less than y\n"
     ]
    }
   ],
   "source": [
    "x = 10\n",
    "y = 10\n",
    "if x <= y:\n",
    "    print ('x equal or less than y')"
   ]
  },
  {
   "cell_type": "markdown",
   "metadata": {},
   "source": [
    "***Question 1*** : \n",
    "\n",
    "Assign x =99, y =2<br/>\n",
    "Use \"greater than\" operator to determine whether x is greater than y"
   ]
  },
  {
   "cell_type": "code",
   "execution_count": 11,
   "metadata": {},
   "outputs": [
    {
     "name": "stdout",
     "output_type": "stream",
     "text": [
      "x greater than y\n"
     ]
    }
   ],
   "source": [
    "x = 99\n",
    "y = 2\n",
    "if x > y:\n",
    "    print ('x greater than y')"
   ]
  },
  {
   "cell_type": "markdown",
   "metadata": {},
   "source": [
    "***Question 2*** : \n",
    "\n",
    "Assign x =25, y =25<br/>\n",
    "Use \"greater than or equal to\" operator to determine whether x is greater than y"
   ]
  },
  {
   "cell_type": "code",
   "execution_count": 12,
   "metadata": {},
   "outputs": [
    {
     "name": "stdout",
     "output_type": "stream",
     "text": [
      "x equal or greater than y\n"
     ]
    }
   ],
   "source": [
    "x = 25\n",
    "y = 25\n",
    "if x >= y:\n",
    "    print ('x equal or greater than y')"
   ]
  },
  {
   "cell_type": "code",
   "execution_count": 8,
   "metadata": {},
   "outputs": [
    {
     "name": "stdout",
     "output_type": "stream",
     "text": [
      "x not greater than y\n"
     ]
    }
   ],
   "source": [
    "x = 34\n",
    "y = 50\n",
    "if x > y:\n",
    "    print ('x greater than y')\n",
    "else:\n",
    "    print ('x not greater than y')"
   ]
  },
  {
   "cell_type": "code",
   "execution_count": 10,
   "metadata": {},
   "outputs": [
    {
     "name": "stdout",
     "output_type": "stream",
     "text": [
      "x not greater than y\n",
      "x greater than or equal y\n",
      "x not greater than y\n"
     ]
    }
   ],
   "source": [
    "x = 34\n",
    "y = 34\n",
    "if x > y:\n",
    "    print ('x greater than y')\n",
    "else:\n",
    "    print ('x not greater than y')\n",
    "\n",
    "###\n",
    "if x >= y:\n",
    "    print ('x greater than or equal y')\n",
    "else:\n",
    "    print ('x not greater than y')\n",
    "    \n",
    "###\n",
    "if x <= y:\n",
    "    print ('x not greater than y')\n",
    "else:\n",
    "    print ('x greater than y')"
   ]
  },
  {
   "cell_type": "markdown",
   "metadata": {},
   "source": [
    "***Question 3*** : \n",
    "\n",
    "Assume we have two varibale x and y<br/>\n",
    "Create a if else statment to determent whether x is greater than/ equal to/ less than/ y and print the result of the statment."
   ]
  },
  {
   "cell_type": "code",
   "execution_count": 17,
   "metadata": {},
   "outputs": [
    {
     "name": "stdout",
     "output_type": "stream",
     "text": [
      "x is less than y\n"
     ]
    }
   ],
   "source": [
    "x = 2\n",
    "y = 10\n",
    "if x > y:\n",
    "    print ('x is greater than y')\n",
    "else:\n",
    "    if x == y:\n",
    "        print ('x is equal to y')\n",
    "    else:\n",
    "        if x < y:\n",
    "            print ('x is less than y')"
   ]
  },
  {
   "cell_type": "code",
   "execution_count": 20,
   "metadata": {},
   "outputs": [
    {
     "name": "stdout",
     "output_type": "stream",
     "text": [
      "x is greater than y\n",
      "x is greater than y\n",
      "x = 12\n",
      "y = 10\n"
     ]
    }
   ],
   "source": [
    "## incorrect/ not preferable\n",
    "x = 12\n",
    "y = 10\n",
    "if x > y:\n",
    "    print ('x is greater than y')\n",
    "if x == y:\n",
    "    print ('x is equal to y')\n",
    "if x < y:\n",
    "    print ('x is less than y')\n",
    "    \n",
    "    \n",
    "x = 12\n",
    "y = 10\n",
    "if x > y:\n",
    "    print ('x is greater than y')\n",
    "if x == 12:\n",
    "    print ('x = 12')\n",
    "if y == 10:\n",
    "    print ('y = 10')\n",
    "if x == y:\n",
    "    print ('x equal to y')"
   ]
  },
  {
   "cell_type": "code",
   "execution_count": 21,
   "metadata": {},
   "outputs": [
    {
     "name": "stdout",
     "output_type": "stream",
     "text": [
      "x is greater than y\n"
     ]
    }
   ],
   "source": [
    "x = 10\n",
    "y = 9\n",
    "if x > y:\n",
    "    print ('x is greater than y')\n",
    "elif x == y:\n",
    "    print ('x is equal to y')\n",
    "elif x < y:\n",
    "    print ('x is less than y')"
   ]
  },
  {
   "cell_type": "markdown",
   "metadata": {},
   "source": [
    "### Example:"
   ]
  },
  {
   "cell_type": "code",
   "execution_count": 22,
   "metadata": {},
   "outputs": [
    {
     "name": "stdout",
     "output_type": "stream",
     "text": [
      "length of x = length of y\n"
     ]
    }
   ],
   "source": [
    "x = 'abc'\n",
    "y = 'def'\n",
    "if len(x) > len(y):\n",
    "    print ('length of x > length of y')\n",
    "elif len(x) == len(y):\n",
    "    print ('length of x = length of y')\n",
    "else:\n",
    "    print ('length of x < length of y')"
   ]
  },
  {
   "cell_type": "markdown",
   "metadata": {},
   "source": [
    "<h1 align=center><font size = 5>for loop</font></h1>  "
   ]
  },
  {
   "cell_type": "markdown",
   "metadata": {},
   "source": [
    "operator:<br/>\n",
    "for xx in xx:<br/>\n",
    "&emsp;.............<br/>\n",
    "&emsp;.............<br/>\n",
    "&emsp;.............<br/>"
   ]
  },
  {
   "cell_type": "markdown",
   "metadata": {},
   "source": [
    "### Example:"
   ]
  },
  {
   "cell_type": "code",
   "execution_count": 24,
   "metadata": {},
   "outputs": [
    {
     "name": "stdout",
     "output_type": "stream",
     "text": [
      "a\n",
      "b\n",
      "c\n"
     ]
    }
   ],
   "source": [
    "for i in 'abc':\n",
    "    print (i)"
   ]
  },
  {
   "cell_type": "code",
   "execution_count": 25,
   "metadata": {},
   "outputs": [
    {
     "name": "stdout",
     "output_type": "stream",
     "text": [
      "ddd\n",
      "2\n",
      "abc\n",
      "5\n"
     ]
    }
   ],
   "source": [
    "for i in ['ddd',2,'abc',5]:\n",
    "    print (i)"
   ]
  },
  {
   "cell_type": "markdown",
   "metadata": {},
   "source": [
    "***Question 4*** : \n",
    "\n",
    "use for loop to print 1-5"
   ]
  },
  {
   "cell_type": "code",
   "execution_count": 26,
   "metadata": {},
   "outputs": [
    {
     "name": "stdout",
     "output_type": "stream",
     "text": [
      "1\n",
      "2\n",
      "3\n",
      "4\n",
      "5\n"
     ]
    }
   ],
   "source": [
    "for i in [1,2,3,4,5]:\n",
    "    print (i)"
   ]
  },
  {
   "cell_type": "code",
   "execution_count": 27,
   "metadata": {},
   "outputs": [
    {
     "name": "stdout",
     "output_type": "stream",
     "text": [
      "0\n",
      "1\n",
      "2\n",
      "3\n",
      "4\n",
      "5\n"
     ]
    }
   ],
   "source": [
    "for i in range(0,6):\n",
    "    print (i)"
   ]
  },
  {
   "cell_type": "markdown",
   "metadata": {},
   "source": [
    "### Example:"
   ]
  },
  {
   "cell_type": "code",
   "execution_count": 30,
   "metadata": {},
   "outputs": [
    {
     "name": "stdout",
     "output_type": "stream",
     "text": [
      "1\n",
      "2\n",
      "3\n",
      "4\n",
      "5\n"
     ]
    }
   ],
   "source": [
    "for i in range(1,6):\n",
    "    print (i)"
   ]
  },
  {
   "cell_type": "code",
   "execution_count": 33,
   "metadata": {},
   "outputs": [
    {
     "name": "stdout",
     "output_type": "stream",
     "text": [
      "1\n",
      "3\n",
      "5\n"
     ]
    }
   ],
   "source": [
    "for i in range(1,6,2):\n",
    "    print (i)"
   ]
  },
  {
   "cell_type": "code",
   "execution_count": 35,
   "metadata": {},
   "outputs": [
    {
     "name": "stdout",
     "output_type": "stream",
     "text": [
      "6\n",
      "5\n",
      "4\n",
      "3\n",
      "2\n"
     ]
    }
   ],
   "source": [
    "for i in range(6,1,-1):\n",
    "    print (i)"
   ]
  }
 ],
 "metadata": {
  "kernelspec": {
   "display_name": "Python 3",
   "language": "python",
   "name": "python3"
  },
  "language_info": {
   "codemirror_mode": {
    "name": "ipython",
    "version": 3
   },
   "file_extension": ".py",
   "mimetype": "text/x-python",
   "name": "python",
   "nbconvert_exporter": "python",
   "pygments_lexer": "ipython3",
   "version": "3.8.3"
  }
 },
 "nbformat": 4,
 "nbformat_minor": 4
}
