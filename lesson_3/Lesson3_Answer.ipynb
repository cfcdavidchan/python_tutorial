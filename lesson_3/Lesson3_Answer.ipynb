{
 "cells": [
  {
   "cell_type": "markdown",
   "metadata": {},
   "source": [
    "<h1 align=center><font size = 5>In class question</font></h1>  "
   ]
  },
  {
   "cell_type": "markdown",
   "metadata": {},
   "source": [
    "***Question 1*** : \n",
    "\n",
    "Assign x =99, y =2<br/>\n",
    "Use \"greater than\" operator to determine whether x is greater than y"
   ]
  },
  {
   "cell_type": "code",
   "execution_count": 1,
   "metadata": {},
   "outputs": [
    {
     "name": "stdout",
     "output_type": "stream",
     "text": [
      "x greater than y\n"
     ]
    }
   ],
   "source": [
    "x = 99\n",
    "y = 2\n",
    "if x > y:\n",
    "    print ('x greater than y')"
   ]
  },
  {
   "cell_type": "markdown",
   "metadata": {},
   "source": [
    "***Question 2*** : \n",
    "\n",
    "Assign x =25, y =25<br/>\n",
    "Use \"greater than or equal to\" operator to determine whether x is greater than y"
   ]
  },
  {
   "cell_type": "code",
   "execution_count": 3,
   "metadata": {},
   "outputs": [
    {
     "name": "stdout",
     "output_type": "stream",
     "text": [
      "x equal or greater than y\n"
     ]
    }
   ],
   "source": [
    "x = 25\n",
    "y = 25\n",
    "if x >= y:\n",
    "    print ('x equal or greater than y')"
   ]
  },
  {
   "cell_type": "markdown",
   "metadata": {},
   "source": [
    "***Question 3*** : \n",
    "\n",
    "Assume we have two varibale x and y<br/>\n",
    "Create a if else statment to determent whether x is greater than/ equal to/ less than/ y and print the result of the statment."
   ]
  },
  {
   "cell_type": "code",
   "execution_count": 4,
   "metadata": {},
   "outputs": [
    {
     "name": "stdout",
     "output_type": "stream",
     "text": [
      "x is less than y\n"
     ]
    }
   ],
   "source": [
    "x = 2\n",
    "y = 10\n",
    "if x > y:\n",
    "    print ('x is greater than y')\n",
    "else:\n",
    "    if x == y:\n",
    "        print ('x is equal to y')\n",
    "    else:\n",
    "        if x < y:\n",
    "            print ('x is less than y')"
   ]
  },
  {
   "cell_type": "code",
   "execution_count": 7,
   "metadata": {},
   "outputs": [
    {
     "name": "stdout",
     "output_type": "stream",
     "text": [
      "x is greater than y\n"
     ]
    }
   ],
   "source": [
    "x = 10\n",
    "y = 9\n",
    "if x > y:\n",
    "    print ('x is greater than y')\n",
    "elif x == y:\n",
    "    print ('x is equal to y')\n",
    "elif x < y:\n",
    "    print ('x is less than y')"
   ]
  },
  {
   "cell_type": "markdown",
   "metadata": {},
   "source": [
    "***Question 4*** : \n",
    "\n",
    "use for loop to print 0-5"
   ]
  },
  {
   "cell_type": "code",
   "execution_count": 11,
   "metadata": {},
   "outputs": [
    {
     "name": "stdout",
     "output_type": "stream",
     "text": [
      "1\n",
      "2\n",
      "3\n",
      "4\n",
      "5\n"
     ]
    }
   ],
   "source": [
    "for i in [1,2,3,4,5]:\n",
    "    print (i)"
   ]
  },
  {
   "cell_type": "code",
   "execution_count": 10,
   "metadata": {},
   "outputs": [
    {
     "name": "stdout",
     "output_type": "stream",
     "text": [
      "0\n",
      "1\n",
      "2\n",
      "3\n",
      "4\n",
      "5\n"
     ]
    }
   ],
   "source": [
    "for i in range(0,6):\n",
    "    print (i)"
   ]
  },
  {
   "cell_type": "markdown",
   "metadata": {},
   "source": [
    "<h1 align=center><font size = 5>Lesson 3 Exercise</font></h1>  "
   ]
  },
  {
   "cell_type": "markdown",
   "metadata": {},
   "source": [
    "***Question 1***:\n",
    "\n",
    "print 1-10.<br/>\n",
    "if the number can be divided by 2, print ('bingo') only rather than the number."
   ]
  },
  {
   "cell_type": "code",
   "execution_count": 13,
   "metadata": {},
   "outputs": [
    {
     "name": "stdout",
     "output_type": "stream",
     "text": [
      "1\n",
      "bingo\n",
      "3\n",
      "bingo\n",
      "5\n",
      "bingo\n",
      "7\n",
      "bingo\n",
      "9\n",
      "bingo\n"
     ]
    }
   ],
   "source": [
    "for i in range(1,11):\n",
    "    if i%2 == 0:\n",
    "        print ('bingo')\n",
    "    else:\n",
    "        print (i)"
   ]
  },
  {
   "cell_type": "markdown",
   "metadata": {},
   "source": [
    "***Question 2***:\n",
    "\n",
    "we have a list,<br/>\n",
    "the_list = [10,20,30,40,50]<br/>\n",
    "print the element of the list in reverse order<br/>"
   ]
  },
  {
   "cell_type": "code",
   "execution_count": 18,
   "metadata": {},
   "outputs": [
    {
     "name": "stdout",
     "output_type": "stream",
     "text": [
      "50\n",
      "40\n",
      "30\n",
      "20\n",
      "10\n"
     ]
    }
   ],
   "source": [
    "the_list = [10,20,30,40,50]\n",
    "list_length = len(the_list) -1\n",
    "stop = -1\n",
    "step = -1\n",
    "for i in range(list_length, stop, step):\n",
    "    print (the_list[i])"
   ]
  },
  {
   "cell_type": "markdown",
   "metadata": {},
   "source": [
    "***Question 3***:\n",
    "\n",
    "we have a list of some English name,<br/>\n",
    "the_list = ['Marry','Daniel','Cherry','Boby','David','Damien','Donald','Kate','Hazel','Duncan']<br/>\n",
    "print the name that starts with letter 'D'<br/>"
   ]
  },
  {
   "cell_type": "markdown",
   "metadata": {},
   "source": [
    "Method 1"
   ]
  },
  {
   "cell_type": "code",
   "execution_count": 19,
   "metadata": {},
   "outputs": [
    {
     "name": "stdout",
     "output_type": "stream",
     "text": [
      "Daniel\n",
      "David\n",
      "Damien\n",
      "Donald\n",
      "Duncan\n"
     ]
    }
   ],
   "source": [
    "the_list = ['Marry','Daniel','Cherry','Boby','David','Damien','Donald','Kate','Hazel','Duncan']\n",
    "\n",
    "for name in the_list:\n",
    "    first_letter = name[0]\n",
    "    if first_letter == 'D':\n",
    "        print (name)"
   ]
  },
  {
   "cell_type": "markdown",
   "metadata": {},
   "source": [
    "Method 2"
   ]
  },
  {
   "cell_type": "code",
   "execution_count": 21,
   "metadata": {},
   "outputs": [
    {
     "name": "stdout",
     "output_type": "stream",
     "text": [
      "Daniel\n",
      "David\n",
      "Damien\n",
      "Donald\n",
      "Duncan\n"
     ]
    }
   ],
   "source": [
    "the_list = ['Marry','Daniel','Cherry','Boby','David','Damien','Donald','Kate','Hazel','Duncan']\n",
    "\n",
    "for name in the_list:\n",
    "    if name.startswith('D'):\n",
    "        print (name)"
   ]
  },
  {
   "cell_type": "markdown",
   "metadata": {},
   "source": [
    "Bonus: ***Question 4**:\n",
    "\n",
    "we have a list of some English name,<br/>\n",
    "the_list = ['Marry','Daniel','Cherry','Boby','david','Damien','donald','Kate','Hazel','Duncan']<br/>\n",
    "print the name that starts with letter 'D'<br/>"
   ]
  },
  {
   "cell_type": "markdown",
   "metadata": {},
   "source": [
    "Method 1"
   ]
  },
  {
   "cell_type": "code",
   "execution_count": 22,
   "metadata": {},
   "outputs": [
    {
     "name": "stdout",
     "output_type": "stream",
     "text": [
      "Daniel\n",
      "david\n",
      "Damien\n",
      "donald\n",
      "Duncan\n"
     ]
    }
   ],
   "source": [
    "the_list = ['Marry','Daniel','Cherry','Boby','david','Damien','donald','Kate','Hazel','Duncan']\n",
    "\n",
    "for name in the_list:\n",
    "    first_letter = name[0]\n",
    "    if (first_letter == 'D') or (first_letter == 'd'):\n",
    "        print (name)"
   ]
  },
  {
   "cell_type": "markdown",
   "metadata": {},
   "source": [
    "Method 2"
   ]
  },
  {
   "cell_type": "code",
   "execution_count": 25,
   "metadata": {},
   "outputs": [
    {
     "name": "stdout",
     "output_type": "stream",
     "text": [
      "Daniel\n",
      "david\n",
      "Damien\n",
      "donald\n",
      "Duncan\n"
     ]
    }
   ],
   "source": [
    "the_list = ['Marry','Daniel','Cherry','Boby','david','Damien','donald','Kate','Hazel','Duncan']\n",
    "\n",
    "for name in the_list:\n",
    "    name = name.lower()\n",
    "    first_letter = name[0]\n",
    "    if (first_letter == 'd'):\n",
    "        print (name)\n",
    "        \n",
    "        \n",
    "#\n",
    "for name in the_list:\n",
    "    first_letter = name[0]\n",
    "    if (first_letter.lower() == 'd'):\n",
    "        print (name)"
   ]
  },
  {
   "cell_type": "markdown",
   "metadata": {},
   "source": [
    "***Question 5***:\n",
    "\n",
    "Print multiplication table(1-10) of given number<br/>\n",
    "let say the number is 3"
   ]
  },
  {
   "cell_type": "code",
   "execution_count": 26,
   "metadata": {},
   "outputs": [
    {
     "name": "stdout",
     "output_type": "stream",
     "text": [
      "3\n",
      "6\n",
      "9\n",
      "12\n",
      "15\n",
      "18\n",
      "21\n",
      "24\n",
      "27\n",
      "30\n"
     ]
    }
   ],
   "source": [
    "number = 3\n",
    "for i in range (1,11):\n",
    "    print (3*i)"
   ]
  },
  {
   "cell_type": "markdown",
   "metadata": {},
   "source": [
    "***Question 6***:\n",
    "\n",
    "We have a nested list to store all the employee information of a company.<br/>\n",
    "The struture of the list is following:<br/>\n",
    "[[name 1, age 1, salary],<br/>\n",
    " [name 2, age 2, salary],<br/>\n",
    " [name 3, age 3, salary],<br/>\n",
    " ...]\n",
    " \n",
    "The task:\n",
    "1. print the employee name each by each.\n",
    "2. print the average age of the employee\n",
    "3. print the total salary that the company has to pay\n",
    "\n",
    "\n",
    "the example list will be:<br/>\n",
    "employees = [['Tom',18, 20000], ['Cherry', 25, 25000], ['Karry' , 21, 30000], ['Steve', 28, 20000], ['Bob', 40, 500000]]"
   ]
  },
  {
   "cell_type": "code",
   "execution_count": 27,
   "metadata": {},
   "outputs": [
    {
     "name": "stdout",
     "output_type": "stream",
     "text": [
      "Tom\n",
      "Cherry\n",
      "Karry\n",
      "Steve\n",
      "Bob\n",
      "26.4\n",
      "595000\n"
     ]
    }
   ],
   "source": [
    "employees = [['Tom',18, 20000], ['Cherry', 25, 25000], ['Karry' , 21, 30000], ['Steve', 28, 20000], ['Bob', 40, 500000]]\n",
    "\n",
    "all_age = 0\n",
    "total_salary = 0\n",
    "\n",
    "for data in employees:\n",
    "    print (data[0])\n",
    "    all_age = all_age + data[1]\n",
    "    total_salary = total_salary + data[2]\n",
    "\n",
    "average_salary = all_age/len(employees)\n",
    "\n",
    "print (average_salary)\n",
    "print (total_salary)"
   ]
  },
  {
   "cell_type": "markdown",
   "metadata": {},
   "source": [
    "Bonus: ***Question 7**:\n",
    "\n",
    "we have a list,<br/>\n",
    "the_list = [1,2,3,4,5,6,7,8,9,10,11,12,13,14,15]\n",
    "\n",
    "loop the string, print the element of the list with the following rules:\n",
    "1. print it only if the element cannot be divided by 3\n",
    "2. stop the loop if the element is equal to 11 (not to print 11)\n"
   ]
  },
  {
   "cell_type": "code",
   "execution_count": 39,
   "metadata": {},
   "outputs": [
    {
     "name": "stdout",
     "output_type": "stream",
     "text": [
      "1\n",
      "2\n",
      "4\n",
      "5\n",
      "7\n",
      "8\n",
      "10\n"
     ]
    }
   ],
   "source": [
    "the_list = [1,2,3,4,5,6,7,8,9,10,11,12,13,14,15]\n",
    "for num in the_list:\n",
    "    if (num%3 > 0) and num < 11:\n",
    "        print (num)"
   ]
  },
  {
   "cell_type": "code",
   "execution_count": 42,
   "metadata": {},
   "outputs": [
    {
     "name": "stdout",
     "output_type": "stream",
     "text": [
      "1\n",
      "2\n",
      "4\n",
      "5\n",
      "7\n",
      "8\n",
      "10\n"
     ]
    }
   ],
   "source": [
    "the_list = [1,2,3,4,5,6,7,8,9,10,11,12,13,14,15]\n",
    "for num in the_list:\n",
    "    if num == 11:\n",
    "        break\n",
    "    if num%3 > 0:\n",
    "        print (num)"
   ]
  },
  {
   "cell_type": "code",
   "execution_count": 41,
   "metadata": {},
   "outputs": [
    {
     "name": "stdout",
     "output_type": "stream",
     "text": [
      "1\n",
      "2\n",
      "4\n",
      "5\n",
      "7\n",
      "8\n",
      "10\n"
     ]
    }
   ],
   "source": [
    "the_list = [1,2,3,4,5,6,7,8,9,10,11,12,13,14,15]\n",
    "for num in the_list:\n",
    "    if num%3 == 0:\n",
    "        continue\n",
    "    if num == 11:\n",
    "        break\n",
    "    print (num)"
   ]
  }
 ],
 "metadata": {
  "kernelspec": {
   "display_name": "Python 3",
   "language": "python",
   "name": "python3"
  },
  "language_info": {
   "codemirror_mode": {
    "name": "ipython",
    "version": 3
   },
   "file_extension": ".py",
   "mimetype": "text/x-python",
   "name": "python",
   "nbconvert_exporter": "python",
   "pygments_lexer": "ipython3",
   "version": "3.8.3"
  }
 },
 "nbformat": 4,
 "nbformat_minor": 4
}
