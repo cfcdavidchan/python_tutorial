{
 "cells": [
  {
   "cell_type": "markdown",
   "metadata": {},
   "source": [
    "<h1 align=center><font size = 5>Lesson 7 Exercise</font></h1>  "
   ]
  },
  {
   "cell_type": "markdown",
   "metadata": {},
   "source": [
    "For the class we created in the lesson, mybank(), please add **2 function** you believe it will be usefull"
   ]
  },
  {
   "cell_type": "code",
   "execution_count": 34,
   "metadata": {},
   "outputs": [],
   "source": [
    "import os, json\n",
    "\n",
    "class mybank():\n",
    "    def __init__(self, json_file= 'bank_account.json'):\n",
    "        \"\"\"\n",
    "        mybank object constructor\n",
    "        :param path: the json file name for storing account data, default as 'bank_account.json'\n",
    "        \"\"\"\n",
    "        root_path = os.getcwd() # get the root path\n",
    "        self.bank_account_path = os.path.join(root_path, json_file)\n",
    "        try:\n",
    "            with open(self.bank_account_path) as file_object: # read/create the folder if not exist\n",
    "#                 self.all_bank_account = json.load(file_object)\n",
    "                \n",
    "                self.all_bank_account = {}\n",
    "                hashed_data = json.load(file_object)\n",
    "                for account_name, account_detail in hashed_data.items():\n",
    "                    money_detail = []\n",
    "                    for bin_money in account_detail:\n",
    "                        money_detail.append(int(bin_money, 2))\n",
    "                    self.all_bank_account[account_name] = money_detail\n",
    "                \n",
    "        except FileNotFoundError:\n",
    "            self.all_bank_account = {}\n",
    "            self.update_json()\n",
    "#             with open(self.bank_account_path, 'w') as json_file:\n",
    "#                 json.dump(self.all_bank_account, json_file)\n",
    "\n",
    "    def create_account(self, account_name):\n",
    "        \"\"\"\n",
    "        create a txt file for storing the account detail\n",
    "        :param account_name: str()\n",
    "        \"\"\"\n",
    "        if account_name in self.all_bank_account.keys():\n",
    "            print ('Sorry account is already created')\n",
    "            return\n",
    "        else:\n",
    "            self.all_bank_account[account_name] = [] # create a empty list for that account\n",
    "            self.update_json() # update the json file\n",
    "            print ('account txt created successfully')\n",
    "            return\n",
    "        \n",
    "    def remove_account(self, account_name):\n",
    "        \"\"\"\n",
    "        remove the account from json\n",
    "        :param account_name: str()\n",
    "        \"\"\"\n",
    "        try:\n",
    "            self.all_bank_account.pop(account_name)\n",
    "            self.update_json() # update the json file\n",
    "            print ('account removed successfully')\n",
    "        except KeyError:\n",
    "            print ('account is not found')\n",
    "    \n",
    "    def add_record(self, account_name, record):\n",
    "        \"\"\"\n",
    "        adding recrod into the account\n",
    "        :param account_name: str()\n",
    "        :param account_name: int()\n",
    "        \"\"\"\n",
    "        try:\n",
    "            self.all_bank_account[account_name].append(record)\n",
    "            self.update_json()\n",
    "            print ('Record noted successfully')\n",
    "        except KeyError:\n",
    "            print ('account is not found')\n",
    "    \n",
    "    def check_record(self, account_name):\n",
    "        \"\"\"\n",
    "        check a account record\n",
    "        :param account_name: str()\n",
    "        :return list(), record with int()\n",
    "        \"\"\"\n",
    "        try:\n",
    "            record = self.all_bank_account[account_name]\n",
    "            print (record)\n",
    "            return record\n",
    "        except KeyError:\n",
    "            print ('account is not found')\n",
    "    \n",
    "    def remove_record(self, account_name, record):\n",
    "        \"\"\"\n",
    "        adding record from the account\n",
    "        :param account_name: str()\n",
    "        :param account_name: int()\n",
    "        \"\"\"\n",
    "        try:\n",
    "            account_record = self.all_bank_account[account_name]\n",
    "            account_record.remove(record)\n",
    "            self.update_json()\n",
    "        except KeyError:\n",
    "            print ('account is not found')\n",
    "        except ValueError:\n",
    "            print ('record is not found')\n",
    "    \n",
    "    def check_all_records(self):\n",
    "        \"\"\"\n",
    "        check all account record\n",
    "        :return dict(), {account:[record1, record2]}\n",
    "        \"\"\"\n",
    "        return self.all_bank_account\n",
    "    \n",
    "    def update_json(self):\n",
    "        \"\"\"\n",
    "        a helper function to update the self.all_bank_account data to target json file\n",
    "        :param data: dict()\n",
    "        \"\"\"\n",
    "        encrypt_dict = {}\n",
    "        for account_name, account_detail in self.all_bank_account.items():\n",
    "            encrypt_detail = []\n",
    "            for money in account_detail:\n",
    "                encrypt_detail.append(bin(money)) #convert data to binary format\n",
    "            encrypt_dict[account_name] = encrypt_detail\n",
    "        with open(self.bank_account_path, 'w') as json_file:\n",
    "            json.dump(encrypt_dict, json_file)\n",
    "    \n",
    "    def total_on_hand(self):\n",
    "        all_money = 0\n",
    "        for account_name, account_detail in self.all_bank_account.items():\n",
    "            for money in account_detail:\n",
    "                all_money+= money\n",
    "        return all_money"
   ]
  },
  {
   "cell_type": "code",
   "execution_count": 35,
   "metadata": {},
   "outputs": [],
   "source": [
    "case2 = mybank(json_file= 'hashed_bank_account.json')"
   ]
  },
  {
   "cell_type": "code",
   "execution_count": 40,
   "metadata": {},
   "outputs": [
    {
     "name": "stdout",
     "output_type": "stream",
     "text": [
      "Sorry account is already created\n",
      "Record noted successfully\n"
     ]
    }
   ],
   "source": [
    "case2.create_account('b')\n",
    "case2.add_record('b', 900)"
   ]
  },
  {
   "cell_type": "code",
   "execution_count": 42,
   "metadata": {},
   "outputs": [
    {
     "data": {
      "text/plain": [
       "{'a': [100, 100, -500], 'b': [500, 900]}"
      ]
     },
     "execution_count": 42,
     "metadata": {},
     "output_type": "execute_result"
    }
   ],
   "source": [
    "case2.check_all_records()"
   ]
  }
 ],
 "metadata": {
  "kernelspec": {
   "display_name": "Python 3",
   "language": "python",
   "name": "python3"
  },
  "language_info": {
   "codemirror_mode": {
    "name": "ipython",
    "version": 3
   },
   "file_extension": ".py",
   "mimetype": "text/x-python",
   "name": "python",
   "nbconvert_exporter": "python",
   "pygments_lexer": "ipython3",
   "version": "3.8.3"
  }
 },
 "nbformat": 4,
 "nbformat_minor": 4
}
