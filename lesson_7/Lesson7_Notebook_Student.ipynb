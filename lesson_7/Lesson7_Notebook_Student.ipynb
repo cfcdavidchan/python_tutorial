{
 "cells": [
  {
   "cell_type": "markdown",
   "metadata": {},
   "source": [
    "<h1 align=center><font size = 10>Python - Lesson 7</font></h1>  "
   ]
  },
  {
   "cell_type": "markdown",
   "metadata": {},
   "source": [
    "# Overview\n",
    "\n",
    "Some python object operations will be covered today:\n",
    "\n",
    "1. [First Project-Bank Account Recording](#First-Project-Bank-Account-Recording)"
   ]
  },
  {
   "cell_type": "markdown",
   "metadata": {},
   "source": [
    "<h1 align=center><font size = 5>First Project-Bank Account Recording</font></h1>  "
   ]
  },
  {
   "cell_type": "markdown",
   "metadata": {},
   "source": [
    "In this project, we aim to create a system that can record all the cash in and out from all the bank account we have. This project we utilize all the skill we learned previously, such as class, function or if-else statement. Additionally, we will also import different python built-in libraries, such as os and json.\n",
    "\n",
    "Finally, we will put all the code into a .py file, we can therefore use our code directly by double clicking it rather than open jupyter notebbok every time we use."
   ]
  },
  {
   "cell_type": "markdown",
   "metadata": {},
   "source": [
    "Let's start:\n",
    "\n",
    "1. create a folder call, bank_account\n",
    "2. create a class, mybank\n",
    "3. search all the exisitng accounts in __init__ function\n",
    " - [os.listdir()](https://docs.python.org/3/library/os.html#os.listdir)\n",
    " - [os.mkdir()](https://docs.python.org/3/library/os.html#os.mkdir)\n",
    " - [os.path.isdir()](https://docs.python.org/3/library/os.path.html#os.path.isdir)\n",
    " - [str.endswith()](https://docs.python.org/3/library/stdtypes.html#str.endswith)\n",
    "4. create the following function:\n",
    "    - 4.1 create_account\n",
    "    - 4.2 remove_account\n",
    "        - [os.remove()](https://docs.python.org/3/library/os.html#os.remove)\n",
    "    - 4.3 add_record\n",
    "    - 4.4 check_record\n",
    "    - 4.5 remove_record\n",
    "    - 4.6 check_all_records"
   ]
  },
  {
   "cell_type": "code",
   "execution_count": null,
   "metadata": {},
   "outputs": [],
   "source": []
  },
  {
   "cell_type": "code",
   "execution_count": null,
   "metadata": {},
   "outputs": [],
   "source": [
    "help(mybank)"
   ]
  },
  {
   "cell_type": "markdown",
   "metadata": {},
   "source": [
    "By now, we have already created what we want to have, but the system here with a problem, which will create lots of txt file, can we store all the account detail into one integrated, such as a dictionary file?\n",
    "\n",
    "Yes for sure. We can actually store a python dict() into a [json file](https://docs.python.org/3/library/json.html)\n",
    "\n",
    "Let's create a version 2 which will store data in a json file below:"
   ]
  },
  {
   "cell_type": "code",
   "execution_count": null,
   "metadata": {},
   "outputs": [],
   "source": []
  },
  {
   "cell_type": "code",
   "execution_count": null,
   "metadata": {},
   "outputs": [],
   "source": []
  }
 ],
 "metadata": {
  "kernelspec": {
   "display_name": "Python 3",
   "language": "python",
   "name": "python3"
  },
  "language_info": {
   "codemirror_mode": {
    "name": "ipython",
    "version": 3
   },
   "file_extension": ".py",
   "mimetype": "text/x-python",
   "name": "python",
   "nbconvert_exporter": "python",
   "pygments_lexer": "ipython3",
   "version": "3.8.3"
  }
 },
 "nbformat": 4,
 "nbformat_minor": 4
}
